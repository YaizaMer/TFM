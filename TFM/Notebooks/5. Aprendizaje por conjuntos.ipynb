{
  "cells": [
    {
      "cell_type": "markdown",
      "id": "375cccfd",
      "metadata": {
        "id": "375cccfd"
      },
      "source": [
        "# 5. Aprendizaje por conjuntos"
      ]
    },
    {
      "cell_type": "markdown",
      "id": "bc560f16",
      "metadata": {
        "id": "bc560f16"
      },
      "source": [
        "## Descripción\n",
        "\n",
        "En este notebook se implementarán las técnicas de aprendizaje por conjuntos y se evaluarán sus resultados."
      ]
    },
    {
      "cell_type": "markdown",
      "id": "67a8427d",
      "metadata": {
        "id": "67a8427d"
      },
      "source": [
        "## Librerías"
      ]
    },
    {
      "cell_type": "code",
      "execution_count": 1,
      "id": "4ee3a867",
      "metadata": {
        "id": "4ee3a867"
      },
      "outputs": [],
      "source": [
        "import pandas as pd\n",
        "import numpy as np\n",
        "from sklearn.preprocessing import StandardScaler #Para normalizar los datos.\n",
        "from sklearn.model_selection import train_test_split #Para dividir el dataset en train y test.\n",
        "from sklearn.metrics import accuracy_score\n",
        "from numpy.random import seed\n",
        "import matplotlib.pyplot as plt\n",
        "%matplotlib inline \n",
        "\n",
        "\n",
        "#Matrices de confusión\n",
        "from mlxtend.plotting import plot_confusion_matrix\n",
        "from sklearn.metrics import confusion_matrix\n",
        "\n",
        "#Bosques aleatorios\n",
        "from collections import OrderedDict\n",
        "from sklearn.datasets import make_classification\n",
        "from sklearn.ensemble import RandomForestClassifier\n",
        "\n",
        "#XGBoost\n",
        "import xgboost as xgb\n",
        "from xgboost import XGBClassifier\n",
        "from xgboost import plot_importance"
      ]
    },
    {
      "cell_type": "markdown",
      "id": "a030015c",
      "metadata": {
        "id": "a030015c"
      },
      "source": [
        "## Carga de los datasets:"
      ]
    },
    {
      "cell_type": "markdown",
      "id": "a2ccd117",
      "metadata": {
        "id": "a2ccd117"
      },
      "source": [
        "Norte de España:"
      ]
    },
    {
      "cell_type": "code",
      "execution_count": 2,
      "id": "1bb4e13d",
      "metadata": {
        "colab": {
          "base_uri": "https://localhost:8080/",
          "height": 488
        },
        "id": "1bb4e13d",
        "outputId": "3094bfca-e063-4cbe-d653-6593750faacc"
      },
      "outputs": [
        {
          "output_type": "execute_result",
          "data": {
            "text/plain": [
              "      MINMDT  MAXMDT  RANGEMDT      MEANMDT      STDMDT  MINPENDI   MAXPENDI  \\\n",
              "0        117    1394      1277   784.735210  233.924492  0.173360  46.501644   \n",
              "1        271    2105      1834  1067.056635  382.986501  0.122584  61.203892   \n",
              "2         99    2393      2294   817.504449  455.771315  0.346717  67.186058   \n",
              "3        274    1113       839   506.502204  142.357363  0.122584  43.220619   \n",
              "4         33    1151      1118   493.553497  218.406880  0.000000  42.763451   \n",
              "...      ...     ...       ...          ...         ...       ...        ...   \n",
              "3684     139     300       161   189.077045   36.271257  0.000000  13.273371   \n",
              "3685     831    1205       374   931.972503   73.191988  0.000000  26.876348   \n",
              "3686     722    1129       407   863.795376   71.596410  0.173360  34.187431   \n",
              "3687     241     770       529   413.819021  110.728010  0.000000  27.790625   \n",
              "3688     671    1408       737   896.568072  140.151654  0.000000  32.033096   \n",
              "\n",
              "      RANGEPENDI  MEANPENDI   STDPENDI  ...  NFARMA  NCENTEDUC   DISTHOSPIT  \\\n",
              "0      46.328284  20.298575   8.513073  ...       1          2  16583.21167   \n",
              "1      61.081307  22.556711   8.204898  ...       4         10  19974.83089   \n",
              "2      66.839341  25.832286  11.384265  ...       0          0  17540.29587   \n",
              "3      43.098035  15.395220   6.130982  ...       1          8  10146.40817   \n",
              "4      42.763451  17.966830   7.593164  ...       2          0  15694.48914   \n",
              "...          ...        ...        ...  ...     ...        ...          ...   \n",
              "3684   13.273371   2.960418   2.437278  ...       0          0  41271.99526   \n",
              "3685   26.876348   7.047567   5.670949  ...       0          0  35404.93621   \n",
              "3686   34.014071  10.970295   5.792647  ...       0          0  43033.52273   \n",
              "3687   27.790625   3.889147   3.862538  ...       1         10  22120.23364   \n",
              "3688   32.033096   6.590386   4.319270  ...       0          0  20872.94112   \n",
              "\n",
              "         DISTFARMA   DISTATPRIM  VIVTUR21  PLA21  CBMAS30  COB3G  COB4G  \n",
              "0      5709.556279  5274.955751         2     13     0.00   0.96   0.94  \n",
              "1      4971.806926  3961.940782        58    264     1.00   1.00   1.00  \n",
              "2      5485.216677  4285.074165        21    112     0.30   0.95   0.69  \n",
              "3      6522.937789  2496.420733         9     51     0.17   1.00   1.00  \n",
              "4      3757.152641  4305.153512        15     72     0.75   1.00   1.00  \n",
              "...            ...          ...       ...    ...      ...    ...    ...  \n",
              "3684   8612.545190  2227.740226         0      0     1.00   1.00   1.00  \n",
              "3685  18222.786360  2585.646631         0      0     0.95   1.00   1.00  \n",
              "3686  10831.081460  1943.478095         0      0     0.95   0.98   1.00  \n",
              "3687   5762.972359  5572.568876         1      2     0.95   1.00   1.00  \n",
              "3688  13550.215130  3520.124977         0      0     0.86   1.00   1.00  \n",
              "\n",
              "[3689 rows x 65 columns]"
            ],
            "text/html": [
              "\n",
              "  <div id=\"df-4c04bf98-61de-43b9-b8e7-6ad9c3bbaec1\">\n",
              "    <div class=\"colab-df-container\">\n",
              "      <div>\n",
              "<style scoped>\n",
              "    .dataframe tbody tr th:only-of-type {\n",
              "        vertical-align: middle;\n",
              "    }\n",
              "\n",
              "    .dataframe tbody tr th {\n",
              "        vertical-align: top;\n",
              "    }\n",
              "\n",
              "    .dataframe thead th {\n",
              "        text-align: right;\n",
              "    }\n",
              "</style>\n",
              "<table border=\"1\" class=\"dataframe\">\n",
              "  <thead>\n",
              "    <tr style=\"text-align: right;\">\n",
              "      <th></th>\n",
              "      <th>MINMDT</th>\n",
              "      <th>MAXMDT</th>\n",
              "      <th>RANGEMDT</th>\n",
              "      <th>MEANMDT</th>\n",
              "      <th>STDMDT</th>\n",
              "      <th>MINPENDI</th>\n",
              "      <th>MAXPENDI</th>\n",
              "      <th>RANGEPENDI</th>\n",
              "      <th>MEANPENDI</th>\n",
              "      <th>STDPENDI</th>\n",
              "      <th>...</th>\n",
              "      <th>NFARMA</th>\n",
              "      <th>NCENTEDUC</th>\n",
              "      <th>DISTHOSPIT</th>\n",
              "      <th>DISTFARMA</th>\n",
              "      <th>DISTATPRIM</th>\n",
              "      <th>VIVTUR21</th>\n",
              "      <th>PLA21</th>\n",
              "      <th>CBMAS30</th>\n",
              "      <th>COB3G</th>\n",
              "      <th>COB4G</th>\n",
              "    </tr>\n",
              "  </thead>\n",
              "  <tbody>\n",
              "    <tr>\n",
              "      <th>0</th>\n",
              "      <td>117</td>\n",
              "      <td>1394</td>\n",
              "      <td>1277</td>\n",
              "      <td>784.735210</td>\n",
              "      <td>233.924492</td>\n",
              "      <td>0.173360</td>\n",
              "      <td>46.501644</td>\n",
              "      <td>46.328284</td>\n",
              "      <td>20.298575</td>\n",
              "      <td>8.513073</td>\n",
              "      <td>...</td>\n",
              "      <td>1</td>\n",
              "      <td>2</td>\n",
              "      <td>16583.21167</td>\n",
              "      <td>5709.556279</td>\n",
              "      <td>5274.955751</td>\n",
              "      <td>2</td>\n",
              "      <td>13</td>\n",
              "      <td>0.00</td>\n",
              "      <td>0.96</td>\n",
              "      <td>0.94</td>\n",
              "    </tr>\n",
              "    <tr>\n",
              "      <th>1</th>\n",
              "      <td>271</td>\n",
              "      <td>2105</td>\n",
              "      <td>1834</td>\n",
              "      <td>1067.056635</td>\n",
              "      <td>382.986501</td>\n",
              "      <td>0.122584</td>\n",
              "      <td>61.203892</td>\n",
              "      <td>61.081307</td>\n",
              "      <td>22.556711</td>\n",
              "      <td>8.204898</td>\n",
              "      <td>...</td>\n",
              "      <td>4</td>\n",
              "      <td>10</td>\n",
              "      <td>19974.83089</td>\n",
              "      <td>4971.806926</td>\n",
              "      <td>3961.940782</td>\n",
              "      <td>58</td>\n",
              "      <td>264</td>\n",
              "      <td>1.00</td>\n",
              "      <td>1.00</td>\n",
              "      <td>1.00</td>\n",
              "    </tr>\n",
              "    <tr>\n",
              "      <th>2</th>\n",
              "      <td>99</td>\n",
              "      <td>2393</td>\n",
              "      <td>2294</td>\n",
              "      <td>817.504449</td>\n",
              "      <td>455.771315</td>\n",
              "      <td>0.346717</td>\n",
              "      <td>67.186058</td>\n",
              "      <td>66.839341</td>\n",
              "      <td>25.832286</td>\n",
              "      <td>11.384265</td>\n",
              "      <td>...</td>\n",
              "      <td>0</td>\n",
              "      <td>0</td>\n",
              "      <td>17540.29587</td>\n",
              "      <td>5485.216677</td>\n",
              "      <td>4285.074165</td>\n",
              "      <td>21</td>\n",
              "      <td>112</td>\n",
              "      <td>0.30</td>\n",
              "      <td>0.95</td>\n",
              "      <td>0.69</td>\n",
              "    </tr>\n",
              "    <tr>\n",
              "      <th>3</th>\n",
              "      <td>274</td>\n",
              "      <td>1113</td>\n",
              "      <td>839</td>\n",
              "      <td>506.502204</td>\n",
              "      <td>142.357363</td>\n",
              "      <td>0.122584</td>\n",
              "      <td>43.220619</td>\n",
              "      <td>43.098035</td>\n",
              "      <td>15.395220</td>\n",
              "      <td>6.130982</td>\n",
              "      <td>...</td>\n",
              "      <td>1</td>\n",
              "      <td>8</td>\n",
              "      <td>10146.40817</td>\n",
              "      <td>6522.937789</td>\n",
              "      <td>2496.420733</td>\n",
              "      <td>9</td>\n",
              "      <td>51</td>\n",
              "      <td>0.17</td>\n",
              "      <td>1.00</td>\n",
              "      <td>1.00</td>\n",
              "    </tr>\n",
              "    <tr>\n",
              "      <th>4</th>\n",
              "      <td>33</td>\n",
              "      <td>1151</td>\n",
              "      <td>1118</td>\n",
              "      <td>493.553497</td>\n",
              "      <td>218.406880</td>\n",
              "      <td>0.000000</td>\n",
              "      <td>42.763451</td>\n",
              "      <td>42.763451</td>\n",
              "      <td>17.966830</td>\n",
              "      <td>7.593164</td>\n",
              "      <td>...</td>\n",
              "      <td>2</td>\n",
              "      <td>0</td>\n",
              "      <td>15694.48914</td>\n",
              "      <td>3757.152641</td>\n",
              "      <td>4305.153512</td>\n",
              "      <td>15</td>\n",
              "      <td>72</td>\n",
              "      <td>0.75</td>\n",
              "      <td>1.00</td>\n",
              "      <td>1.00</td>\n",
              "    </tr>\n",
              "    <tr>\n",
              "      <th>...</th>\n",
              "      <td>...</td>\n",
              "      <td>...</td>\n",
              "      <td>...</td>\n",
              "      <td>...</td>\n",
              "      <td>...</td>\n",
              "      <td>...</td>\n",
              "      <td>...</td>\n",
              "      <td>...</td>\n",
              "      <td>...</td>\n",
              "      <td>...</td>\n",
              "      <td>...</td>\n",
              "      <td>...</td>\n",
              "      <td>...</td>\n",
              "      <td>...</td>\n",
              "      <td>...</td>\n",
              "      <td>...</td>\n",
              "      <td>...</td>\n",
              "      <td>...</td>\n",
              "      <td>...</td>\n",
              "      <td>...</td>\n",
              "      <td>...</td>\n",
              "    </tr>\n",
              "    <tr>\n",
              "      <th>3684</th>\n",
              "      <td>139</td>\n",
              "      <td>300</td>\n",
              "      <td>161</td>\n",
              "      <td>189.077045</td>\n",
              "      <td>36.271257</td>\n",
              "      <td>0.000000</td>\n",
              "      <td>13.273371</td>\n",
              "      <td>13.273371</td>\n",
              "      <td>2.960418</td>\n",
              "      <td>2.437278</td>\n",
              "      <td>...</td>\n",
              "      <td>0</td>\n",
              "      <td>0</td>\n",
              "      <td>41271.99526</td>\n",
              "      <td>8612.545190</td>\n",
              "      <td>2227.740226</td>\n",
              "      <td>0</td>\n",
              "      <td>0</td>\n",
              "      <td>1.00</td>\n",
              "      <td>1.00</td>\n",
              "      <td>1.00</td>\n",
              "    </tr>\n",
              "    <tr>\n",
              "      <th>3685</th>\n",
              "      <td>831</td>\n",
              "      <td>1205</td>\n",
              "      <td>374</td>\n",
              "      <td>931.972503</td>\n",
              "      <td>73.191988</td>\n",
              "      <td>0.000000</td>\n",
              "      <td>26.876348</td>\n",
              "      <td>26.876348</td>\n",
              "      <td>7.047567</td>\n",
              "      <td>5.670949</td>\n",
              "      <td>...</td>\n",
              "      <td>0</td>\n",
              "      <td>0</td>\n",
              "      <td>35404.93621</td>\n",
              "      <td>18222.786360</td>\n",
              "      <td>2585.646631</td>\n",
              "      <td>0</td>\n",
              "      <td>0</td>\n",
              "      <td>0.95</td>\n",
              "      <td>1.00</td>\n",
              "      <td>1.00</td>\n",
              "    </tr>\n",
              "    <tr>\n",
              "      <th>3686</th>\n",
              "      <td>722</td>\n",
              "      <td>1129</td>\n",
              "      <td>407</td>\n",
              "      <td>863.795376</td>\n",
              "      <td>71.596410</td>\n",
              "      <td>0.173360</td>\n",
              "      <td>34.187431</td>\n",
              "      <td>34.014071</td>\n",
              "      <td>10.970295</td>\n",
              "      <td>5.792647</td>\n",
              "      <td>...</td>\n",
              "      <td>0</td>\n",
              "      <td>0</td>\n",
              "      <td>43033.52273</td>\n",
              "      <td>10831.081460</td>\n",
              "      <td>1943.478095</td>\n",
              "      <td>0</td>\n",
              "      <td>0</td>\n",
              "      <td>0.95</td>\n",
              "      <td>0.98</td>\n",
              "      <td>1.00</td>\n",
              "    </tr>\n",
              "    <tr>\n",
              "      <th>3687</th>\n",
              "      <td>241</td>\n",
              "      <td>770</td>\n",
              "      <td>529</td>\n",
              "      <td>413.819021</td>\n",
              "      <td>110.728010</td>\n",
              "      <td>0.000000</td>\n",
              "      <td>27.790625</td>\n",
              "      <td>27.790625</td>\n",
              "      <td>3.889147</td>\n",
              "      <td>3.862538</td>\n",
              "      <td>...</td>\n",
              "      <td>1</td>\n",
              "      <td>10</td>\n",
              "      <td>22120.23364</td>\n",
              "      <td>5762.972359</td>\n",
              "      <td>5572.568876</td>\n",
              "      <td>1</td>\n",
              "      <td>2</td>\n",
              "      <td>0.95</td>\n",
              "      <td>1.00</td>\n",
              "      <td>1.00</td>\n",
              "    </tr>\n",
              "    <tr>\n",
              "      <th>3688</th>\n",
              "      <td>671</td>\n",
              "      <td>1408</td>\n",
              "      <td>737</td>\n",
              "      <td>896.568072</td>\n",
              "      <td>140.151654</td>\n",
              "      <td>0.000000</td>\n",
              "      <td>32.033096</td>\n",
              "      <td>32.033096</td>\n",
              "      <td>6.590386</td>\n",
              "      <td>4.319270</td>\n",
              "      <td>...</td>\n",
              "      <td>0</td>\n",
              "      <td>0</td>\n",
              "      <td>20872.94112</td>\n",
              "      <td>13550.215130</td>\n",
              "      <td>3520.124977</td>\n",
              "      <td>0</td>\n",
              "      <td>0</td>\n",
              "      <td>0.86</td>\n",
              "      <td>1.00</td>\n",
              "      <td>1.00</td>\n",
              "    </tr>\n",
              "  </tbody>\n",
              "</table>\n",
              "<p>3689 rows × 65 columns</p>\n",
              "</div>\n",
              "      <button class=\"colab-df-convert\" onclick=\"convertToInteractive('df-4c04bf98-61de-43b9-b8e7-6ad9c3bbaec1')\"\n",
              "              title=\"Convert this dataframe to an interactive table.\"\n",
              "              style=\"display:none;\">\n",
              "        \n",
              "  <svg xmlns=\"http://www.w3.org/2000/svg\" height=\"24px\"viewBox=\"0 0 24 24\"\n",
              "       width=\"24px\">\n",
              "    <path d=\"M0 0h24v24H0V0z\" fill=\"none\"/>\n",
              "    <path d=\"M18.56 5.44l.94 2.06.94-2.06 2.06-.94-2.06-.94-.94-2.06-.94 2.06-2.06.94zm-11 1L8.5 8.5l.94-2.06 2.06-.94-2.06-.94L8.5 2.5l-.94 2.06-2.06.94zm10 10l.94 2.06.94-2.06 2.06-.94-2.06-.94-.94-2.06-.94 2.06-2.06.94z\"/><path d=\"M17.41 7.96l-1.37-1.37c-.4-.4-.92-.59-1.43-.59-.52 0-1.04.2-1.43.59L10.3 9.45l-7.72 7.72c-.78.78-.78 2.05 0 2.83L4 21.41c.39.39.9.59 1.41.59.51 0 1.02-.2 1.41-.59l7.78-7.78 2.81-2.81c.8-.78.8-2.07 0-2.86zM5.41 20L4 18.59l7.72-7.72 1.47 1.35L5.41 20z\"/>\n",
              "  </svg>\n",
              "      </button>\n",
              "      \n",
              "  <style>\n",
              "    .colab-df-container {\n",
              "      display:flex;\n",
              "      flex-wrap:wrap;\n",
              "      gap: 12px;\n",
              "    }\n",
              "\n",
              "    .colab-df-convert {\n",
              "      background-color: #E8F0FE;\n",
              "      border: none;\n",
              "      border-radius: 50%;\n",
              "      cursor: pointer;\n",
              "      display: none;\n",
              "      fill: #1967D2;\n",
              "      height: 32px;\n",
              "      padding: 0 0 0 0;\n",
              "      width: 32px;\n",
              "    }\n",
              "\n",
              "    .colab-df-convert:hover {\n",
              "      background-color: #E2EBFA;\n",
              "      box-shadow: 0px 1px 2px rgba(60, 64, 67, 0.3), 0px 1px 3px 1px rgba(60, 64, 67, 0.15);\n",
              "      fill: #174EA6;\n",
              "    }\n",
              "\n",
              "    [theme=dark] .colab-df-convert {\n",
              "      background-color: #3B4455;\n",
              "      fill: #D2E3FC;\n",
              "    }\n",
              "\n",
              "    [theme=dark] .colab-df-convert:hover {\n",
              "      background-color: #434B5C;\n",
              "      box-shadow: 0px 1px 3px 1px rgba(0, 0, 0, 0.15);\n",
              "      filter: drop-shadow(0px 1px 2px rgba(0, 0, 0, 0.3));\n",
              "      fill: #FFFFFF;\n",
              "    }\n",
              "  </style>\n",
              "\n",
              "      <script>\n",
              "        const buttonEl =\n",
              "          document.querySelector('#df-4c04bf98-61de-43b9-b8e7-6ad9c3bbaec1 button.colab-df-convert');\n",
              "        buttonEl.style.display =\n",
              "          google.colab.kernel.accessAllowed ? 'block' : 'none';\n",
              "\n",
              "        async function convertToInteractive(key) {\n",
              "          const element = document.querySelector('#df-4c04bf98-61de-43b9-b8e7-6ad9c3bbaec1');\n",
              "          const dataTable =\n",
              "            await google.colab.kernel.invokeFunction('convertToInteractive',\n",
              "                                                     [key], {});\n",
              "          if (!dataTable) return;\n",
              "\n",
              "          const docLinkHtml = 'Like what you see? Visit the ' +\n",
              "            '<a target=\"_blank\" href=https://colab.research.google.com/notebooks/data_table.ipynb>data table notebook</a>'\n",
              "            + ' to learn more about interactive tables.';\n",
              "          element.innerHTML = '';\n",
              "          dataTable['output_type'] = 'display_data';\n",
              "          await google.colab.output.renderOutput(dataTable, element);\n",
              "          const docLink = document.createElement('div');\n",
              "          docLink.innerHTML = docLinkHtml;\n",
              "          element.appendChild(docLink);\n",
              "        }\n",
              "      </script>\n",
              "    </div>\n",
              "  </div>\n",
              "  "
            ]
          },
          "metadata": {},
          "execution_count": 2
        }
      ],
      "source": [
        "excel_pob = pd.read_csv('excel_pob_variables.csv')\n",
        "excel_pob"
      ]
    },
    {
      "cell_type": "markdown",
      "id": "c5800a55",
      "metadata": {
        "id": "c5800a55"
      },
      "source": [
        "Cantabria:"
      ]
    },
    {
      "cell_type": "code",
      "execution_count": 3,
      "id": "24230cd3",
      "metadata": {
        "colab": {
          "base_uri": "https://localhost:8080/",
          "height": 488
        },
        "id": "24230cd3",
        "outputId": "caa9d2b1-a2b6-4e44-ba62-8bf0c0741c72"
      },
      "outputs": [
        {
          "output_type": "execute_result",
          "data": {
            "text/plain": [
              "    MINMDT  MAXMDT  RANGEMDT     MEANMDT      STDMDT  MINPENDI   MAXPENDI  \\\n",
              "0       65     552       487  220.690553  104.095285  0.000000  31.196602   \n",
              "1       -6     218       224   57.649513   42.324675  0.000000  23.273787   \n",
              "2       -3     391       394  141.156113   83.474135  0.122584  33.228851   \n",
              "3      203     942       739  467.784320  140.755881  0.173360  37.476574   \n",
              "4      112     828       716  329.966152  142.751930  0.122584  36.627811   \n",
              "..     ...     ...       ...         ...         ...       ...        ...   \n",
              "95     247    1682      1435  716.320500  251.176248  0.122584  62.624386   \n",
              "96     150     870       720  429.996782  182.276557  0.000000  39.624466   \n",
              "97       0     437       437  112.661945   80.694858  0.122584  27.935255   \n",
              "98     152     735       583  363.969076  136.276553  0.274105  29.921757   \n",
              "99      -3     808       811  217.173197  167.650140  0.000000  41.322651   \n",
              "\n",
              "    RANGEPENDI  MEANPENDI  STDPENDI  ...  NFARMA  NCENTEDUC    DISTHOSPIT  \\\n",
              "0    31.196602  11.105984  6.565275  ...       1          0  13305.256790   \n",
              "1    23.273787   5.522714  4.048844  ...       2          4   6086.627482   \n",
              "2    33.106267   8.968757  5.108402  ...       0          2   9033.361309   \n",
              "3    37.303214  14.057126  5.779102  ...       0          0  18892.149520   \n",
              "4    36.505227  12.574647  6.543079  ...       0          0  18897.890150   \n",
              "..         ...        ...       ...  ...     ...        ...           ...   \n",
              "95   62.501801  22.598704  8.880146  ...       1          2  33837.993620   \n",
              "96   39.624466  12.713040  6.913056  ...       1          2  24542.374170   \n",
              "97   27.812671   8.587506  5.689353  ...       0          0   9800.767314   \n",
              "98   29.647651  10.768345  5.145302  ...       0          0  22527.063100   \n",
              "99   41.322651  12.887623  7.796029  ...       1          2   9344.076767   \n",
              "\n",
              "      DISTFARMA   DISTATPRIM  VIVTUR21  PLA21  CBMAS30  COB3G  COB4G  \n",
              "0   6689.805575  1503.589655         9     79     0.60   0.98   0.98  \n",
              "1   3558.752869  1682.295735       156    814     0.99   1.00   1.00  \n",
              "2   4085.905018  1657.810817        64    322     0.96   1.00   1.00  \n",
              "3   9992.467164  1794.658987         5     33     0.00   1.00   1.00  \n",
              "4   5427.973068  2070.778547         3     10     0.98   1.00   1.00  \n",
              "..          ...          ...       ...    ...      ...    ...    ...  \n",
              "95  5052.512126  4048.590984        10     50     0.29   1.00   1.00  \n",
              "96  3364.998813  2203.640557        23    169     1.00   1.00   1.00  \n",
              "97  9562.771833  1269.354330        10     64     0.98   1.00   1.00  \n",
              "98  7025.784394  2412.441843         0      0     0.49   1.00   1.00  \n",
              "99  3885.421461  2932.312878        35    197     1.00   1.00   1.00  \n",
              "\n",
              "[100 rows x 65 columns]"
            ],
            "text/html": [
              "\n",
              "  <div id=\"df-9a667874-e234-498e-a65d-2fe471fe2dbd\">\n",
              "    <div class=\"colab-df-container\">\n",
              "      <div>\n",
              "<style scoped>\n",
              "    .dataframe tbody tr th:only-of-type {\n",
              "        vertical-align: middle;\n",
              "    }\n",
              "\n",
              "    .dataframe tbody tr th {\n",
              "        vertical-align: top;\n",
              "    }\n",
              "\n",
              "    .dataframe thead th {\n",
              "        text-align: right;\n",
              "    }\n",
              "</style>\n",
              "<table border=\"1\" class=\"dataframe\">\n",
              "  <thead>\n",
              "    <tr style=\"text-align: right;\">\n",
              "      <th></th>\n",
              "      <th>MINMDT</th>\n",
              "      <th>MAXMDT</th>\n",
              "      <th>RANGEMDT</th>\n",
              "      <th>MEANMDT</th>\n",
              "      <th>STDMDT</th>\n",
              "      <th>MINPENDI</th>\n",
              "      <th>MAXPENDI</th>\n",
              "      <th>RANGEPENDI</th>\n",
              "      <th>MEANPENDI</th>\n",
              "      <th>STDPENDI</th>\n",
              "      <th>...</th>\n",
              "      <th>NFARMA</th>\n",
              "      <th>NCENTEDUC</th>\n",
              "      <th>DISTHOSPIT</th>\n",
              "      <th>DISTFARMA</th>\n",
              "      <th>DISTATPRIM</th>\n",
              "      <th>VIVTUR21</th>\n",
              "      <th>PLA21</th>\n",
              "      <th>CBMAS30</th>\n",
              "      <th>COB3G</th>\n",
              "      <th>COB4G</th>\n",
              "    </tr>\n",
              "  </thead>\n",
              "  <tbody>\n",
              "    <tr>\n",
              "      <th>0</th>\n",
              "      <td>65</td>\n",
              "      <td>552</td>\n",
              "      <td>487</td>\n",
              "      <td>220.690553</td>\n",
              "      <td>104.095285</td>\n",
              "      <td>0.000000</td>\n",
              "      <td>31.196602</td>\n",
              "      <td>31.196602</td>\n",
              "      <td>11.105984</td>\n",
              "      <td>6.565275</td>\n",
              "      <td>...</td>\n",
              "      <td>1</td>\n",
              "      <td>0</td>\n",
              "      <td>13305.256790</td>\n",
              "      <td>6689.805575</td>\n",
              "      <td>1503.589655</td>\n",
              "      <td>9</td>\n",
              "      <td>79</td>\n",
              "      <td>0.60</td>\n",
              "      <td>0.98</td>\n",
              "      <td>0.98</td>\n",
              "    </tr>\n",
              "    <tr>\n",
              "      <th>1</th>\n",
              "      <td>-6</td>\n",
              "      <td>218</td>\n",
              "      <td>224</td>\n",
              "      <td>57.649513</td>\n",
              "      <td>42.324675</td>\n",
              "      <td>0.000000</td>\n",
              "      <td>23.273787</td>\n",
              "      <td>23.273787</td>\n",
              "      <td>5.522714</td>\n",
              "      <td>4.048844</td>\n",
              "      <td>...</td>\n",
              "      <td>2</td>\n",
              "      <td>4</td>\n",
              "      <td>6086.627482</td>\n",
              "      <td>3558.752869</td>\n",
              "      <td>1682.295735</td>\n",
              "      <td>156</td>\n",
              "      <td>814</td>\n",
              "      <td>0.99</td>\n",
              "      <td>1.00</td>\n",
              "      <td>1.00</td>\n",
              "    </tr>\n",
              "    <tr>\n",
              "      <th>2</th>\n",
              "      <td>-3</td>\n",
              "      <td>391</td>\n",
              "      <td>394</td>\n",
              "      <td>141.156113</td>\n",
              "      <td>83.474135</td>\n",
              "      <td>0.122584</td>\n",
              "      <td>33.228851</td>\n",
              "      <td>33.106267</td>\n",
              "      <td>8.968757</td>\n",
              "      <td>5.108402</td>\n",
              "      <td>...</td>\n",
              "      <td>0</td>\n",
              "      <td>2</td>\n",
              "      <td>9033.361309</td>\n",
              "      <td>4085.905018</td>\n",
              "      <td>1657.810817</td>\n",
              "      <td>64</td>\n",
              "      <td>322</td>\n",
              "      <td>0.96</td>\n",
              "      <td>1.00</td>\n",
              "      <td>1.00</td>\n",
              "    </tr>\n",
              "    <tr>\n",
              "      <th>3</th>\n",
              "      <td>203</td>\n",
              "      <td>942</td>\n",
              "      <td>739</td>\n",
              "      <td>467.784320</td>\n",
              "      <td>140.755881</td>\n",
              "      <td>0.173360</td>\n",
              "      <td>37.476574</td>\n",
              "      <td>37.303214</td>\n",
              "      <td>14.057126</td>\n",
              "      <td>5.779102</td>\n",
              "      <td>...</td>\n",
              "      <td>0</td>\n",
              "      <td>0</td>\n",
              "      <td>18892.149520</td>\n",
              "      <td>9992.467164</td>\n",
              "      <td>1794.658987</td>\n",
              "      <td>5</td>\n",
              "      <td>33</td>\n",
              "      <td>0.00</td>\n",
              "      <td>1.00</td>\n",
              "      <td>1.00</td>\n",
              "    </tr>\n",
              "    <tr>\n",
              "      <th>4</th>\n",
              "      <td>112</td>\n",
              "      <td>828</td>\n",
              "      <td>716</td>\n",
              "      <td>329.966152</td>\n",
              "      <td>142.751930</td>\n",
              "      <td>0.122584</td>\n",
              "      <td>36.627811</td>\n",
              "      <td>36.505227</td>\n",
              "      <td>12.574647</td>\n",
              "      <td>6.543079</td>\n",
              "      <td>...</td>\n",
              "      <td>0</td>\n",
              "      <td>0</td>\n",
              "      <td>18897.890150</td>\n",
              "      <td>5427.973068</td>\n",
              "      <td>2070.778547</td>\n",
              "      <td>3</td>\n",
              "      <td>10</td>\n",
              "      <td>0.98</td>\n",
              "      <td>1.00</td>\n",
              "      <td>1.00</td>\n",
              "    </tr>\n",
              "    <tr>\n",
              "      <th>...</th>\n",
              "      <td>...</td>\n",
              "      <td>...</td>\n",
              "      <td>...</td>\n",
              "      <td>...</td>\n",
              "      <td>...</td>\n",
              "      <td>...</td>\n",
              "      <td>...</td>\n",
              "      <td>...</td>\n",
              "      <td>...</td>\n",
              "      <td>...</td>\n",
              "      <td>...</td>\n",
              "      <td>...</td>\n",
              "      <td>...</td>\n",
              "      <td>...</td>\n",
              "      <td>...</td>\n",
              "      <td>...</td>\n",
              "      <td>...</td>\n",
              "      <td>...</td>\n",
              "      <td>...</td>\n",
              "      <td>...</td>\n",
              "      <td>...</td>\n",
              "    </tr>\n",
              "    <tr>\n",
              "      <th>95</th>\n",
              "      <td>247</td>\n",
              "      <td>1682</td>\n",
              "      <td>1435</td>\n",
              "      <td>716.320500</td>\n",
              "      <td>251.176248</td>\n",
              "      <td>0.122584</td>\n",
              "      <td>62.624386</td>\n",
              "      <td>62.501801</td>\n",
              "      <td>22.598704</td>\n",
              "      <td>8.880146</td>\n",
              "      <td>...</td>\n",
              "      <td>1</td>\n",
              "      <td>2</td>\n",
              "      <td>33837.993620</td>\n",
              "      <td>5052.512126</td>\n",
              "      <td>4048.590984</td>\n",
              "      <td>10</td>\n",
              "      <td>50</td>\n",
              "      <td>0.29</td>\n",
              "      <td>1.00</td>\n",
              "      <td>1.00</td>\n",
              "    </tr>\n",
              "    <tr>\n",
              "      <th>96</th>\n",
              "      <td>150</td>\n",
              "      <td>870</td>\n",
              "      <td>720</td>\n",
              "      <td>429.996782</td>\n",
              "      <td>182.276557</td>\n",
              "      <td>0.000000</td>\n",
              "      <td>39.624466</td>\n",
              "      <td>39.624466</td>\n",
              "      <td>12.713040</td>\n",
              "      <td>6.913056</td>\n",
              "      <td>...</td>\n",
              "      <td>1</td>\n",
              "      <td>2</td>\n",
              "      <td>24542.374170</td>\n",
              "      <td>3364.998813</td>\n",
              "      <td>2203.640557</td>\n",
              "      <td>23</td>\n",
              "      <td>169</td>\n",
              "      <td>1.00</td>\n",
              "      <td>1.00</td>\n",
              "      <td>1.00</td>\n",
              "    </tr>\n",
              "    <tr>\n",
              "      <th>97</th>\n",
              "      <td>0</td>\n",
              "      <td>437</td>\n",
              "      <td>437</td>\n",
              "      <td>112.661945</td>\n",
              "      <td>80.694858</td>\n",
              "      <td>0.122584</td>\n",
              "      <td>27.935255</td>\n",
              "      <td>27.812671</td>\n",
              "      <td>8.587506</td>\n",
              "      <td>5.689353</td>\n",
              "      <td>...</td>\n",
              "      <td>0</td>\n",
              "      <td>0</td>\n",
              "      <td>9800.767314</td>\n",
              "      <td>9562.771833</td>\n",
              "      <td>1269.354330</td>\n",
              "      <td>10</td>\n",
              "      <td>64</td>\n",
              "      <td>0.98</td>\n",
              "      <td>1.00</td>\n",
              "      <td>1.00</td>\n",
              "    </tr>\n",
              "    <tr>\n",
              "      <th>98</th>\n",
              "      <td>152</td>\n",
              "      <td>735</td>\n",
              "      <td>583</td>\n",
              "      <td>363.969076</td>\n",
              "      <td>136.276553</td>\n",
              "      <td>0.274105</td>\n",
              "      <td>29.921757</td>\n",
              "      <td>29.647651</td>\n",
              "      <td>10.768345</td>\n",
              "      <td>5.145302</td>\n",
              "      <td>...</td>\n",
              "      <td>0</td>\n",
              "      <td>0</td>\n",
              "      <td>22527.063100</td>\n",
              "      <td>7025.784394</td>\n",
              "      <td>2412.441843</td>\n",
              "      <td>0</td>\n",
              "      <td>0</td>\n",
              "      <td>0.49</td>\n",
              "      <td>1.00</td>\n",
              "      <td>1.00</td>\n",
              "    </tr>\n",
              "    <tr>\n",
              "      <th>99</th>\n",
              "      <td>-3</td>\n",
              "      <td>808</td>\n",
              "      <td>811</td>\n",
              "      <td>217.173197</td>\n",
              "      <td>167.650140</td>\n",
              "      <td>0.000000</td>\n",
              "      <td>41.322651</td>\n",
              "      <td>41.322651</td>\n",
              "      <td>12.887623</td>\n",
              "      <td>7.796029</td>\n",
              "      <td>...</td>\n",
              "      <td>1</td>\n",
              "      <td>2</td>\n",
              "      <td>9344.076767</td>\n",
              "      <td>3885.421461</td>\n",
              "      <td>2932.312878</td>\n",
              "      <td>35</td>\n",
              "      <td>197</td>\n",
              "      <td>1.00</td>\n",
              "      <td>1.00</td>\n",
              "      <td>1.00</td>\n",
              "    </tr>\n",
              "  </tbody>\n",
              "</table>\n",
              "<p>100 rows × 65 columns</p>\n",
              "</div>\n",
              "      <button class=\"colab-df-convert\" onclick=\"convertToInteractive('df-9a667874-e234-498e-a65d-2fe471fe2dbd')\"\n",
              "              title=\"Convert this dataframe to an interactive table.\"\n",
              "              style=\"display:none;\">\n",
              "        \n",
              "  <svg xmlns=\"http://www.w3.org/2000/svg\" height=\"24px\"viewBox=\"0 0 24 24\"\n",
              "       width=\"24px\">\n",
              "    <path d=\"M0 0h24v24H0V0z\" fill=\"none\"/>\n",
              "    <path d=\"M18.56 5.44l.94 2.06.94-2.06 2.06-.94-2.06-.94-.94-2.06-.94 2.06-2.06.94zm-11 1L8.5 8.5l.94-2.06 2.06-.94-2.06-.94L8.5 2.5l-.94 2.06-2.06.94zm10 10l.94 2.06.94-2.06 2.06-.94-2.06-.94-.94-2.06-.94 2.06-2.06.94z\"/><path d=\"M17.41 7.96l-1.37-1.37c-.4-.4-.92-.59-1.43-.59-.52 0-1.04.2-1.43.59L10.3 9.45l-7.72 7.72c-.78.78-.78 2.05 0 2.83L4 21.41c.39.39.9.59 1.41.59.51 0 1.02-.2 1.41-.59l7.78-7.78 2.81-2.81c.8-.78.8-2.07 0-2.86zM5.41 20L4 18.59l7.72-7.72 1.47 1.35L5.41 20z\"/>\n",
              "  </svg>\n",
              "      </button>\n",
              "      \n",
              "  <style>\n",
              "    .colab-df-container {\n",
              "      display:flex;\n",
              "      flex-wrap:wrap;\n",
              "      gap: 12px;\n",
              "    }\n",
              "\n",
              "    .colab-df-convert {\n",
              "      background-color: #E8F0FE;\n",
              "      border: none;\n",
              "      border-radius: 50%;\n",
              "      cursor: pointer;\n",
              "      display: none;\n",
              "      fill: #1967D2;\n",
              "      height: 32px;\n",
              "      padding: 0 0 0 0;\n",
              "      width: 32px;\n",
              "    }\n",
              "\n",
              "    .colab-df-convert:hover {\n",
              "      background-color: #E2EBFA;\n",
              "      box-shadow: 0px 1px 2px rgba(60, 64, 67, 0.3), 0px 1px 3px 1px rgba(60, 64, 67, 0.15);\n",
              "      fill: #174EA6;\n",
              "    }\n",
              "\n",
              "    [theme=dark] .colab-df-convert {\n",
              "      background-color: #3B4455;\n",
              "      fill: #D2E3FC;\n",
              "    }\n",
              "\n",
              "    [theme=dark] .colab-df-convert:hover {\n",
              "      background-color: #434B5C;\n",
              "      box-shadow: 0px 1px 3px 1px rgba(0, 0, 0, 0.15);\n",
              "      filter: drop-shadow(0px 1px 2px rgba(0, 0, 0, 0.3));\n",
              "      fill: #FFFFFF;\n",
              "    }\n",
              "  </style>\n",
              "\n",
              "      <script>\n",
              "        const buttonEl =\n",
              "          document.querySelector('#df-9a667874-e234-498e-a65d-2fe471fe2dbd button.colab-df-convert');\n",
              "        buttonEl.style.display =\n",
              "          google.colab.kernel.accessAllowed ? 'block' : 'none';\n",
              "\n",
              "        async function convertToInteractive(key) {\n",
              "          const element = document.querySelector('#df-9a667874-e234-498e-a65d-2fe471fe2dbd');\n",
              "          const dataTable =\n",
              "            await google.colab.kernel.invokeFunction('convertToInteractive',\n",
              "                                                     [key], {});\n",
              "          if (!dataTable) return;\n",
              "\n",
              "          const docLinkHtml = 'Like what you see? Visit the ' +\n",
              "            '<a target=\"_blank\" href=https://colab.research.google.com/notebooks/data_table.ipynb>data table notebook</a>'\n",
              "            + ' to learn more about interactive tables.';\n",
              "          element.innerHTML = '';\n",
              "          dataTable['output_type'] = 'display_data';\n",
              "          await google.colab.output.renderOutput(dataTable, element);\n",
              "          const docLink = document.createElement('div');\n",
              "          docLink.innerHTML = docLinkHtml;\n",
              "          element.appendChild(docLink);\n",
              "        }\n",
              "      </script>\n",
              "    </div>\n",
              "  </div>\n",
              "  "
            ]
          },
          "metadata": {},
          "execution_count": 3
        }
      ],
      "source": [
        "excel_cantabria = pd.read_csv('excel_cantabria_variables.csv')\n",
        "excel_cantabria"
      ]
    },
    {
      "cell_type": "markdown",
      "id": "daf2c753",
      "metadata": {
        "id": "daf2c753"
      },
      "source": [
        "Se obtienen los targets siguiendo la definición de despoblamiento explicada en los notebooks anteriores."
      ]
    },
    {
      "cell_type": "code",
      "execution_count": 4,
      "id": "d3334d8f",
      "metadata": {
        "colab": {
          "base_uri": "https://localhost:8080/",
          "height": 424
        },
        "id": "d3334d8f",
        "outputId": "677226d1-53f8-41ca-f43d-5af06bf9219d"
      },
      "outputs": [
        {
          "output_type": "execute_result",
          "data": {
            "text/plain": [
              "        0\n",
              "0     1.0\n",
              "1     1.0\n",
              "2     1.0\n",
              "3     1.0\n",
              "4     1.0\n",
              "...   ...\n",
              "3684  1.0\n",
              "3685  1.0\n",
              "3686  1.0\n",
              "3687  0.0\n",
              "3688  1.0\n",
              "\n",
              "[3689 rows x 1 columns]"
            ],
            "text/html": [
              "\n",
              "  <div id=\"df-05bcafc9-f40d-46a9-901f-daf9203a074b\">\n",
              "    <div class=\"colab-df-container\">\n",
              "      <div>\n",
              "<style scoped>\n",
              "    .dataframe tbody tr th:only-of-type {\n",
              "        vertical-align: middle;\n",
              "    }\n",
              "\n",
              "    .dataframe tbody tr th {\n",
              "        vertical-align: top;\n",
              "    }\n",
              "\n",
              "    .dataframe thead th {\n",
              "        text-align: right;\n",
              "    }\n",
              "</style>\n",
              "<table border=\"1\" class=\"dataframe\">\n",
              "  <thead>\n",
              "    <tr style=\"text-align: right;\">\n",
              "      <th></th>\n",
              "      <th>0</th>\n",
              "    </tr>\n",
              "  </thead>\n",
              "  <tbody>\n",
              "    <tr>\n",
              "      <th>0</th>\n",
              "      <td>1.0</td>\n",
              "    </tr>\n",
              "    <tr>\n",
              "      <th>1</th>\n",
              "      <td>1.0</td>\n",
              "    </tr>\n",
              "    <tr>\n",
              "      <th>2</th>\n",
              "      <td>1.0</td>\n",
              "    </tr>\n",
              "    <tr>\n",
              "      <th>3</th>\n",
              "      <td>1.0</td>\n",
              "    </tr>\n",
              "    <tr>\n",
              "      <th>4</th>\n",
              "      <td>1.0</td>\n",
              "    </tr>\n",
              "    <tr>\n",
              "      <th>...</th>\n",
              "      <td>...</td>\n",
              "    </tr>\n",
              "    <tr>\n",
              "      <th>3684</th>\n",
              "      <td>1.0</td>\n",
              "    </tr>\n",
              "    <tr>\n",
              "      <th>3685</th>\n",
              "      <td>1.0</td>\n",
              "    </tr>\n",
              "    <tr>\n",
              "      <th>3686</th>\n",
              "      <td>1.0</td>\n",
              "    </tr>\n",
              "    <tr>\n",
              "      <th>3687</th>\n",
              "      <td>0.0</td>\n",
              "    </tr>\n",
              "    <tr>\n",
              "      <th>3688</th>\n",
              "      <td>1.0</td>\n",
              "    </tr>\n",
              "  </tbody>\n",
              "</table>\n",
              "<p>3689 rows × 1 columns</p>\n",
              "</div>\n",
              "      <button class=\"colab-df-convert\" onclick=\"convertToInteractive('df-05bcafc9-f40d-46a9-901f-daf9203a074b')\"\n",
              "              title=\"Convert this dataframe to an interactive table.\"\n",
              "              style=\"display:none;\">\n",
              "        \n",
              "  <svg xmlns=\"http://www.w3.org/2000/svg\" height=\"24px\"viewBox=\"0 0 24 24\"\n",
              "       width=\"24px\">\n",
              "    <path d=\"M0 0h24v24H0V0z\" fill=\"none\"/>\n",
              "    <path d=\"M18.56 5.44l.94 2.06.94-2.06 2.06-.94-2.06-.94-.94-2.06-.94 2.06-2.06.94zm-11 1L8.5 8.5l.94-2.06 2.06-.94-2.06-.94L8.5 2.5l-.94 2.06-2.06.94zm10 10l.94 2.06.94-2.06 2.06-.94-2.06-.94-.94-2.06-.94 2.06-2.06.94z\"/><path d=\"M17.41 7.96l-1.37-1.37c-.4-.4-.92-.59-1.43-.59-.52 0-1.04.2-1.43.59L10.3 9.45l-7.72 7.72c-.78.78-.78 2.05 0 2.83L4 21.41c.39.39.9.59 1.41.59.51 0 1.02-.2 1.41-.59l7.78-7.78 2.81-2.81c.8-.78.8-2.07 0-2.86zM5.41 20L4 18.59l7.72-7.72 1.47 1.35L5.41 20z\"/>\n",
              "  </svg>\n",
              "      </button>\n",
              "      \n",
              "  <style>\n",
              "    .colab-df-container {\n",
              "      display:flex;\n",
              "      flex-wrap:wrap;\n",
              "      gap: 12px;\n",
              "    }\n",
              "\n",
              "    .colab-df-convert {\n",
              "      background-color: #E8F0FE;\n",
              "      border: none;\n",
              "      border-radius: 50%;\n",
              "      cursor: pointer;\n",
              "      display: none;\n",
              "      fill: #1967D2;\n",
              "      height: 32px;\n",
              "      padding: 0 0 0 0;\n",
              "      width: 32px;\n",
              "    }\n",
              "\n",
              "    .colab-df-convert:hover {\n",
              "      background-color: #E2EBFA;\n",
              "      box-shadow: 0px 1px 2px rgba(60, 64, 67, 0.3), 0px 1px 3px 1px rgba(60, 64, 67, 0.15);\n",
              "      fill: #174EA6;\n",
              "    }\n",
              "\n",
              "    [theme=dark] .colab-df-convert {\n",
              "      background-color: #3B4455;\n",
              "      fill: #D2E3FC;\n",
              "    }\n",
              "\n",
              "    [theme=dark] .colab-df-convert:hover {\n",
              "      background-color: #434B5C;\n",
              "      box-shadow: 0px 1px 3px 1px rgba(0, 0, 0, 0.15);\n",
              "      filter: drop-shadow(0px 1px 2px rgba(0, 0, 0, 0.3));\n",
              "      fill: #FFFFFF;\n",
              "    }\n",
              "  </style>\n",
              "\n",
              "      <script>\n",
              "        const buttonEl =\n",
              "          document.querySelector('#df-05bcafc9-f40d-46a9-901f-daf9203a074b button.colab-df-convert');\n",
              "        buttonEl.style.display =\n",
              "          google.colab.kernel.accessAllowed ? 'block' : 'none';\n",
              "\n",
              "        async function convertToInteractive(key) {\n",
              "          const element = document.querySelector('#df-05bcafc9-f40d-46a9-901f-daf9203a074b');\n",
              "          const dataTable =\n",
              "            await google.colab.kernel.invokeFunction('convertToInteractive',\n",
              "                                                     [key], {});\n",
              "          if (!dataTable) return;\n",
              "\n",
              "          const docLinkHtml = 'Like what you see? Visit the ' +\n",
              "            '<a target=\"_blank\" href=https://colab.research.google.com/notebooks/data_table.ipynb>data table notebook</a>'\n",
              "            + ' to learn more about interactive tables.';\n",
              "          element.innerHTML = '';\n",
              "          dataTable['output_type'] = 'display_data';\n",
              "          await google.colab.output.renderOutput(dataTable, element);\n",
              "          const docLink = document.createElement('div');\n",
              "          docLink.innerHTML = docLinkHtml;\n",
              "          element.appendChild(docLink);\n",
              "        }\n",
              "      </script>\n",
              "    </div>\n",
              "  </div>\n",
              "  "
            ]
          },
          "metadata": {},
          "execution_count": 4
        }
      ],
      "source": [
        "y_todas = pd.read_csv('y_esp.csv')\n",
        "y_todas"
      ]
    },
    {
      "cell_type": "code",
      "execution_count": 5,
      "id": "2a02a89d",
      "metadata": {
        "colab": {
          "base_uri": "https://localhost:8080/",
          "height": 424
        },
        "id": "2a02a89d",
        "outputId": "f865d77d-0940-41c6-fd6b-d318a77bf4c7"
      },
      "outputs": [
        {
          "output_type": "execute_result",
          "data": {
            "text/plain": [
              "      0\n",
              "0   1.0\n",
              "1   0.0\n",
              "2   0.0\n",
              "3   1.0\n",
              "4   1.0\n",
              "..  ...\n",
              "95  1.0\n",
              "96  1.0\n",
              "97  0.0\n",
              "98  1.0\n",
              "99  0.0\n",
              "\n",
              "[100 rows x 1 columns]"
            ],
            "text/html": [
              "\n",
              "  <div id=\"df-f34e99a3-4837-4b16-80bc-6d3f4d5dc1fe\">\n",
              "    <div class=\"colab-df-container\">\n",
              "      <div>\n",
              "<style scoped>\n",
              "    .dataframe tbody tr th:only-of-type {\n",
              "        vertical-align: middle;\n",
              "    }\n",
              "\n",
              "    .dataframe tbody tr th {\n",
              "        vertical-align: top;\n",
              "    }\n",
              "\n",
              "    .dataframe thead th {\n",
              "        text-align: right;\n",
              "    }\n",
              "</style>\n",
              "<table border=\"1\" class=\"dataframe\">\n",
              "  <thead>\n",
              "    <tr style=\"text-align: right;\">\n",
              "      <th></th>\n",
              "      <th>0</th>\n",
              "    </tr>\n",
              "  </thead>\n",
              "  <tbody>\n",
              "    <tr>\n",
              "      <th>0</th>\n",
              "      <td>1.0</td>\n",
              "    </tr>\n",
              "    <tr>\n",
              "      <th>1</th>\n",
              "      <td>0.0</td>\n",
              "    </tr>\n",
              "    <tr>\n",
              "      <th>2</th>\n",
              "      <td>0.0</td>\n",
              "    </tr>\n",
              "    <tr>\n",
              "      <th>3</th>\n",
              "      <td>1.0</td>\n",
              "    </tr>\n",
              "    <tr>\n",
              "      <th>4</th>\n",
              "      <td>1.0</td>\n",
              "    </tr>\n",
              "    <tr>\n",
              "      <th>...</th>\n",
              "      <td>...</td>\n",
              "    </tr>\n",
              "    <tr>\n",
              "      <th>95</th>\n",
              "      <td>1.0</td>\n",
              "    </tr>\n",
              "    <tr>\n",
              "      <th>96</th>\n",
              "      <td>1.0</td>\n",
              "    </tr>\n",
              "    <tr>\n",
              "      <th>97</th>\n",
              "      <td>0.0</td>\n",
              "    </tr>\n",
              "    <tr>\n",
              "      <th>98</th>\n",
              "      <td>1.0</td>\n",
              "    </tr>\n",
              "    <tr>\n",
              "      <th>99</th>\n",
              "      <td>0.0</td>\n",
              "    </tr>\n",
              "  </tbody>\n",
              "</table>\n",
              "<p>100 rows × 1 columns</p>\n",
              "</div>\n",
              "      <button class=\"colab-df-convert\" onclick=\"convertToInteractive('df-f34e99a3-4837-4b16-80bc-6d3f4d5dc1fe')\"\n",
              "              title=\"Convert this dataframe to an interactive table.\"\n",
              "              style=\"display:none;\">\n",
              "        \n",
              "  <svg xmlns=\"http://www.w3.org/2000/svg\" height=\"24px\"viewBox=\"0 0 24 24\"\n",
              "       width=\"24px\">\n",
              "    <path d=\"M0 0h24v24H0V0z\" fill=\"none\"/>\n",
              "    <path d=\"M18.56 5.44l.94 2.06.94-2.06 2.06-.94-2.06-.94-.94-2.06-.94 2.06-2.06.94zm-11 1L8.5 8.5l.94-2.06 2.06-.94-2.06-.94L8.5 2.5l-.94 2.06-2.06.94zm10 10l.94 2.06.94-2.06 2.06-.94-2.06-.94-.94-2.06-.94 2.06-2.06.94z\"/><path d=\"M17.41 7.96l-1.37-1.37c-.4-.4-.92-.59-1.43-.59-.52 0-1.04.2-1.43.59L10.3 9.45l-7.72 7.72c-.78.78-.78 2.05 0 2.83L4 21.41c.39.39.9.59 1.41.59.51 0 1.02-.2 1.41-.59l7.78-7.78 2.81-2.81c.8-.78.8-2.07 0-2.86zM5.41 20L4 18.59l7.72-7.72 1.47 1.35L5.41 20z\"/>\n",
              "  </svg>\n",
              "      </button>\n",
              "      \n",
              "  <style>\n",
              "    .colab-df-container {\n",
              "      display:flex;\n",
              "      flex-wrap:wrap;\n",
              "      gap: 12px;\n",
              "    }\n",
              "\n",
              "    .colab-df-convert {\n",
              "      background-color: #E8F0FE;\n",
              "      border: none;\n",
              "      border-radius: 50%;\n",
              "      cursor: pointer;\n",
              "      display: none;\n",
              "      fill: #1967D2;\n",
              "      height: 32px;\n",
              "      padding: 0 0 0 0;\n",
              "      width: 32px;\n",
              "    }\n",
              "\n",
              "    .colab-df-convert:hover {\n",
              "      background-color: #E2EBFA;\n",
              "      box-shadow: 0px 1px 2px rgba(60, 64, 67, 0.3), 0px 1px 3px 1px rgba(60, 64, 67, 0.15);\n",
              "      fill: #174EA6;\n",
              "    }\n",
              "\n",
              "    [theme=dark] .colab-df-convert {\n",
              "      background-color: #3B4455;\n",
              "      fill: #D2E3FC;\n",
              "    }\n",
              "\n",
              "    [theme=dark] .colab-df-convert:hover {\n",
              "      background-color: #434B5C;\n",
              "      box-shadow: 0px 1px 3px 1px rgba(0, 0, 0, 0.15);\n",
              "      filter: drop-shadow(0px 1px 2px rgba(0, 0, 0, 0.3));\n",
              "      fill: #FFFFFF;\n",
              "    }\n",
              "  </style>\n",
              "\n",
              "      <script>\n",
              "        const buttonEl =\n",
              "          document.querySelector('#df-f34e99a3-4837-4b16-80bc-6d3f4d5dc1fe button.colab-df-convert');\n",
              "        buttonEl.style.display =\n",
              "          google.colab.kernel.accessAllowed ? 'block' : 'none';\n",
              "\n",
              "        async function convertToInteractive(key) {\n",
              "          const element = document.querySelector('#df-f34e99a3-4837-4b16-80bc-6d3f4d5dc1fe');\n",
              "          const dataTable =\n",
              "            await google.colab.kernel.invokeFunction('convertToInteractive',\n",
              "                                                     [key], {});\n",
              "          if (!dataTable) return;\n",
              "\n",
              "          const docLinkHtml = 'Like what you see? Visit the ' +\n",
              "            '<a target=\"_blank\" href=https://colab.research.google.com/notebooks/data_table.ipynb>data table notebook</a>'\n",
              "            + ' to learn more about interactive tables.';\n",
              "          element.innerHTML = '';\n",
              "          dataTable['output_type'] = 'display_data';\n",
              "          await google.colab.output.renderOutput(dataTable, element);\n",
              "          const docLink = document.createElement('div');\n",
              "          docLink.innerHTML = docLinkHtml;\n",
              "          element.appendChild(docLink);\n",
              "        }\n",
              "      </script>\n",
              "    </div>\n",
              "  </div>\n",
              "  "
            ]
          },
          "metadata": {},
          "execution_count": 5
        }
      ],
      "source": [
        "y_todasC = pd.read_csv('y_can.csv')\n",
        "y_todasC"
      ]
    },
    {
      "cell_type": "markdown",
      "id": "a680cb15",
      "metadata": {
        "id": "a680cb15"
      },
      "source": [
        "## Escalado de los datos:"
      ]
    },
    {
      "cell_type": "markdown",
      "id": "49cd3ef3",
      "metadata": {
        "id": "49cd3ef3"
      },
      "source": [
        "Se comienza estandarizando los datos:"
      ]
    },
    {
      "cell_type": "code",
      "execution_count": 6,
      "id": "ffbeb0c9",
      "metadata": {
        "id": "ffbeb0c9"
      },
      "outputs": [],
      "source": [
        "scaler = StandardScaler()\n",
        "x = scaler.fit_transform(excel_pob)\n",
        "excel_pobE = pd.DataFrame(x)"
      ]
    },
    {
      "cell_type": "code",
      "execution_count": 7,
      "id": "29574edb",
      "metadata": {
        "id": "29574edb"
      },
      "outputs": [],
      "source": [
        "scaler = StandardScaler()\n",
        "XC = scaler.fit_transform(excel_cantabria)\n",
        "excel_cantabriaE = pd.DataFrame(XC)"
      ]
    },
    {
      "cell_type": "code",
      "execution_count": 8,
      "id": "3787de6f",
      "metadata": {
        "scrolled": true,
        "id": "3787de6f"
      },
      "outputs": [],
      "source": [
        "col_names = excel_pob.columns.values.tolist() #Para añadir los nombres de las columnas, puesto que la función scaler los elimina.\n",
        "col_namesC = excel_cantabria.columns.values.tolist()"
      ]
    },
    {
      "cell_type": "markdown",
      "id": "325b1d00",
      "metadata": {
        "id": "325b1d00"
      },
      "source": [
        "Comprobamos los datasets:"
      ]
    },
    {
      "cell_type": "code",
      "execution_count": 9,
      "id": "90e70135",
      "metadata": {
        "colab": {
          "base_uri": "https://localhost:8080/",
          "height": 488
        },
        "id": "90e70135",
        "outputId": "e5e35b6b-0512-434a-d595-3ed318f16f8e"
      },
      "outputs": [
        {
          "output_type": "execute_result",
          "data": {
            "text/plain": [
              "        MINMDT    MAXMDT  RANGEMDT   MEANMDT    STDMDT  MINPENDI  MAXPENDI  \\\n",
              "0    -1.894245  0.781234  2.365533 -0.096812  1.890307  0.634482  1.538169   \n",
              "1    -1.367077  2.413963  3.840085  0.818884  3.728375  0.314077  2.579694   \n",
              "2    -1.955862  3.075322  5.057847  0.009473  4.625877  1.728396  3.003478   \n",
              "3    -1.356807  0.135950  1.206011 -0.999248  0.761202  0.314077  1.305738   \n",
              "4    -2.181792  0.223212  1.944611 -1.041247  1.698961 -0.459451  1.273351   \n",
              "...        ...       ...       ...       ...       ...       ...       ...   \n",
              "3684 -1.818936 -1.731011 -0.588865 -2.028802 -0.546934 -0.459451 -0.815761   \n",
              "3685  0.549900  0.347217 -0.024988  0.380745 -0.091669 -0.459451  0.147890   \n",
              "3686  0.176775  0.172692  0.062374  0.159616 -0.111343  0.634482  0.665816   \n",
              "3687 -1.469772 -0.651710  0.385345 -1.299862  0.371184 -0.459451  0.212658   \n",
              "3688  0.002193  0.813383  0.935986  0.265912  0.734004 -0.459451  0.513200   \n",
              "\n",
              "      RANGEPENDI  MEANPENDI  STDPENDI  ...    NFARMA  NCENTEDUC  DISTHOSPIT  \\\n",
              "0       1.536628   2.579642  1.694014  ...  0.499487   0.254355   -0.698368   \n",
              "1       2.585560   2.999029  1.576189  ...  2.955208   2.358199   -0.497689   \n",
              "2       2.994953   3.607376  2.791761  ... -0.319086  -0.271606   -0.641738   \n",
              "3       1.306959   1.668979  0.783265  ...  0.499487   1.832238   -1.079227   \n",
              "4       1.283171   2.146585  1.342303  ...  1.318061  -0.271606   -0.750953   \n",
              "...          ...        ...       ...  ...       ...        ...         ...   \n",
              "3684   -0.813558  -0.640442 -0.628955  ... -0.319086  -0.271606    0.762442   \n",
              "3685    0.153606   0.118633  0.607380  ... -0.319086  -0.271606    0.415294   \n",
              "3686    0.661094   0.847171  0.653909  ... -0.319086  -0.271606    0.866669   \n",
              "3687    0.218611  -0.467957 -0.084033  ...  0.499487   2.358199   -0.370748   \n",
              "3688    0.520248   0.033724  0.090590  ... -0.319086  -0.271606   -0.444549   \n",
              "\n",
              "      DISTFARMA  DISTATPRIM  VIVTUR21     PLA21   CBMAS30     COB3G     COB4G  \n",
              "0     -0.428667    2.805476 -0.110127 -0.100200 -1.581559 -0.486454  0.034681  \n",
              "1     -0.570246    1.524236  2.884533  2.402011  0.780057  0.218319  0.357077  \n",
              "2     -0.471720    1.839549  0.905919  0.886728 -0.873075 -0.662647 -1.308636  \n",
              "3     -0.272575    0.094181  0.264206  0.278620 -1.180085  0.218319  0.357077  \n",
              "4     -0.803346    1.859143  0.585062  0.487969  0.189653  0.218319  0.357077  \n",
              "...         ...         ...       ...       ...       ...       ...       ...  \n",
              "3684   0.128434   -0.167998 -0.217079 -0.229797  0.780057  0.218319  0.357077  \n",
              "3685   1.972699    0.181247 -0.217079 -0.229797  0.661976  0.218319  0.357077  \n",
              "3686   0.554185   -0.445381 -0.217079 -0.229797  0.661976 -0.134067  0.357077  \n",
              "3687  -0.418417    3.095887 -0.163603 -0.209859  0.661976  0.218319  0.357077  \n",
              "3688   1.076003    1.093112 -0.217079 -0.229797  0.449430  0.218319  0.357077  \n",
              "\n",
              "[3689 rows x 65 columns]"
            ],
            "text/html": [
              "\n",
              "  <div id=\"df-a2ace404-7392-4b91-b8e3-6938b207494c\">\n",
              "    <div class=\"colab-df-container\">\n",
              "      <div>\n",
              "<style scoped>\n",
              "    .dataframe tbody tr th:only-of-type {\n",
              "        vertical-align: middle;\n",
              "    }\n",
              "\n",
              "    .dataframe tbody tr th {\n",
              "        vertical-align: top;\n",
              "    }\n",
              "\n",
              "    .dataframe thead th {\n",
              "        text-align: right;\n",
              "    }\n",
              "</style>\n",
              "<table border=\"1\" class=\"dataframe\">\n",
              "  <thead>\n",
              "    <tr style=\"text-align: right;\">\n",
              "      <th></th>\n",
              "      <th>MINMDT</th>\n",
              "      <th>MAXMDT</th>\n",
              "      <th>RANGEMDT</th>\n",
              "      <th>MEANMDT</th>\n",
              "      <th>STDMDT</th>\n",
              "      <th>MINPENDI</th>\n",
              "      <th>MAXPENDI</th>\n",
              "      <th>RANGEPENDI</th>\n",
              "      <th>MEANPENDI</th>\n",
              "      <th>STDPENDI</th>\n",
              "      <th>...</th>\n",
              "      <th>NFARMA</th>\n",
              "      <th>NCENTEDUC</th>\n",
              "      <th>DISTHOSPIT</th>\n",
              "      <th>DISTFARMA</th>\n",
              "      <th>DISTATPRIM</th>\n",
              "      <th>VIVTUR21</th>\n",
              "      <th>PLA21</th>\n",
              "      <th>CBMAS30</th>\n",
              "      <th>COB3G</th>\n",
              "      <th>COB4G</th>\n",
              "    </tr>\n",
              "  </thead>\n",
              "  <tbody>\n",
              "    <tr>\n",
              "      <th>0</th>\n",
              "      <td>-1.894245</td>\n",
              "      <td>0.781234</td>\n",
              "      <td>2.365533</td>\n",
              "      <td>-0.096812</td>\n",
              "      <td>1.890307</td>\n",
              "      <td>0.634482</td>\n",
              "      <td>1.538169</td>\n",
              "      <td>1.536628</td>\n",
              "      <td>2.579642</td>\n",
              "      <td>1.694014</td>\n",
              "      <td>...</td>\n",
              "      <td>0.499487</td>\n",
              "      <td>0.254355</td>\n",
              "      <td>-0.698368</td>\n",
              "      <td>-0.428667</td>\n",
              "      <td>2.805476</td>\n",
              "      <td>-0.110127</td>\n",
              "      <td>-0.100200</td>\n",
              "      <td>-1.581559</td>\n",
              "      <td>-0.486454</td>\n",
              "      <td>0.034681</td>\n",
              "    </tr>\n",
              "    <tr>\n",
              "      <th>1</th>\n",
              "      <td>-1.367077</td>\n",
              "      <td>2.413963</td>\n",
              "      <td>3.840085</td>\n",
              "      <td>0.818884</td>\n",
              "      <td>3.728375</td>\n",
              "      <td>0.314077</td>\n",
              "      <td>2.579694</td>\n",
              "      <td>2.585560</td>\n",
              "      <td>2.999029</td>\n",
              "      <td>1.576189</td>\n",
              "      <td>...</td>\n",
              "      <td>2.955208</td>\n",
              "      <td>2.358199</td>\n",
              "      <td>-0.497689</td>\n",
              "      <td>-0.570246</td>\n",
              "      <td>1.524236</td>\n",
              "      <td>2.884533</td>\n",
              "      <td>2.402011</td>\n",
              "      <td>0.780057</td>\n",
              "      <td>0.218319</td>\n",
              "      <td>0.357077</td>\n",
              "    </tr>\n",
              "    <tr>\n",
              "      <th>2</th>\n",
              "      <td>-1.955862</td>\n",
              "      <td>3.075322</td>\n",
              "      <td>5.057847</td>\n",
              "      <td>0.009473</td>\n",
              "      <td>4.625877</td>\n",
              "      <td>1.728396</td>\n",
              "      <td>3.003478</td>\n",
              "      <td>2.994953</td>\n",
              "      <td>3.607376</td>\n",
              "      <td>2.791761</td>\n",
              "      <td>...</td>\n",
              "      <td>-0.319086</td>\n",
              "      <td>-0.271606</td>\n",
              "      <td>-0.641738</td>\n",
              "      <td>-0.471720</td>\n",
              "      <td>1.839549</td>\n",
              "      <td>0.905919</td>\n",
              "      <td>0.886728</td>\n",
              "      <td>-0.873075</td>\n",
              "      <td>-0.662647</td>\n",
              "      <td>-1.308636</td>\n",
              "    </tr>\n",
              "    <tr>\n",
              "      <th>3</th>\n",
              "      <td>-1.356807</td>\n",
              "      <td>0.135950</td>\n",
              "      <td>1.206011</td>\n",
              "      <td>-0.999248</td>\n",
              "      <td>0.761202</td>\n",
              "      <td>0.314077</td>\n",
              "      <td>1.305738</td>\n",
              "      <td>1.306959</td>\n",
              "      <td>1.668979</td>\n",
              "      <td>0.783265</td>\n",
              "      <td>...</td>\n",
              "      <td>0.499487</td>\n",
              "      <td>1.832238</td>\n",
              "      <td>-1.079227</td>\n",
              "      <td>-0.272575</td>\n",
              "      <td>0.094181</td>\n",
              "      <td>0.264206</td>\n",
              "      <td>0.278620</td>\n",
              "      <td>-1.180085</td>\n",
              "      <td>0.218319</td>\n",
              "      <td>0.357077</td>\n",
              "    </tr>\n",
              "    <tr>\n",
              "      <th>4</th>\n",
              "      <td>-2.181792</td>\n",
              "      <td>0.223212</td>\n",
              "      <td>1.944611</td>\n",
              "      <td>-1.041247</td>\n",
              "      <td>1.698961</td>\n",
              "      <td>-0.459451</td>\n",
              "      <td>1.273351</td>\n",
              "      <td>1.283171</td>\n",
              "      <td>2.146585</td>\n",
              "      <td>1.342303</td>\n",
              "      <td>...</td>\n",
              "      <td>1.318061</td>\n",
              "      <td>-0.271606</td>\n",
              "      <td>-0.750953</td>\n",
              "      <td>-0.803346</td>\n",
              "      <td>1.859143</td>\n",
              "      <td>0.585062</td>\n",
              "      <td>0.487969</td>\n",
              "      <td>0.189653</td>\n",
              "      <td>0.218319</td>\n",
              "      <td>0.357077</td>\n",
              "    </tr>\n",
              "    <tr>\n",
              "      <th>...</th>\n",
              "      <td>...</td>\n",
              "      <td>...</td>\n",
              "      <td>...</td>\n",
              "      <td>...</td>\n",
              "      <td>...</td>\n",
              "      <td>...</td>\n",
              "      <td>...</td>\n",
              "      <td>...</td>\n",
              "      <td>...</td>\n",
              "      <td>...</td>\n",
              "      <td>...</td>\n",
              "      <td>...</td>\n",
              "      <td>...</td>\n",
              "      <td>...</td>\n",
              "      <td>...</td>\n",
              "      <td>...</td>\n",
              "      <td>...</td>\n",
              "      <td>...</td>\n",
              "      <td>...</td>\n",
              "      <td>...</td>\n",
              "      <td>...</td>\n",
              "    </tr>\n",
              "    <tr>\n",
              "      <th>3684</th>\n",
              "      <td>-1.818936</td>\n",
              "      <td>-1.731011</td>\n",
              "      <td>-0.588865</td>\n",
              "      <td>-2.028802</td>\n",
              "      <td>-0.546934</td>\n",
              "      <td>-0.459451</td>\n",
              "      <td>-0.815761</td>\n",
              "      <td>-0.813558</td>\n",
              "      <td>-0.640442</td>\n",
              "      <td>-0.628955</td>\n",
              "      <td>...</td>\n",
              "      <td>-0.319086</td>\n",
              "      <td>-0.271606</td>\n",
              "      <td>0.762442</td>\n",
              "      <td>0.128434</td>\n",
              "      <td>-0.167998</td>\n",
              "      <td>-0.217079</td>\n",
              "      <td>-0.229797</td>\n",
              "      <td>0.780057</td>\n",
              "      <td>0.218319</td>\n",
              "      <td>0.357077</td>\n",
              "    </tr>\n",
              "    <tr>\n",
              "      <th>3685</th>\n",
              "      <td>0.549900</td>\n",
              "      <td>0.347217</td>\n",
              "      <td>-0.024988</td>\n",
              "      <td>0.380745</td>\n",
              "      <td>-0.091669</td>\n",
              "      <td>-0.459451</td>\n",
              "      <td>0.147890</td>\n",
              "      <td>0.153606</td>\n",
              "      <td>0.118633</td>\n",
              "      <td>0.607380</td>\n",
              "      <td>...</td>\n",
              "      <td>-0.319086</td>\n",
              "      <td>-0.271606</td>\n",
              "      <td>0.415294</td>\n",
              "      <td>1.972699</td>\n",
              "      <td>0.181247</td>\n",
              "      <td>-0.217079</td>\n",
              "      <td>-0.229797</td>\n",
              "      <td>0.661976</td>\n",
              "      <td>0.218319</td>\n",
              "      <td>0.357077</td>\n",
              "    </tr>\n",
              "    <tr>\n",
              "      <th>3686</th>\n",
              "      <td>0.176775</td>\n",
              "      <td>0.172692</td>\n",
              "      <td>0.062374</td>\n",
              "      <td>0.159616</td>\n",
              "      <td>-0.111343</td>\n",
              "      <td>0.634482</td>\n",
              "      <td>0.665816</td>\n",
              "      <td>0.661094</td>\n",
              "      <td>0.847171</td>\n",
              "      <td>0.653909</td>\n",
              "      <td>...</td>\n",
              "      <td>-0.319086</td>\n",
              "      <td>-0.271606</td>\n",
              "      <td>0.866669</td>\n",
              "      <td>0.554185</td>\n",
              "      <td>-0.445381</td>\n",
              "      <td>-0.217079</td>\n",
              "      <td>-0.229797</td>\n",
              "      <td>0.661976</td>\n",
              "      <td>-0.134067</td>\n",
              "      <td>0.357077</td>\n",
              "    </tr>\n",
              "    <tr>\n",
              "      <th>3687</th>\n",
              "      <td>-1.469772</td>\n",
              "      <td>-0.651710</td>\n",
              "      <td>0.385345</td>\n",
              "      <td>-1.299862</td>\n",
              "      <td>0.371184</td>\n",
              "      <td>-0.459451</td>\n",
              "      <td>0.212658</td>\n",
              "      <td>0.218611</td>\n",
              "      <td>-0.467957</td>\n",
              "      <td>-0.084033</td>\n",
              "      <td>...</td>\n",
              "      <td>0.499487</td>\n",
              "      <td>2.358199</td>\n",
              "      <td>-0.370748</td>\n",
              "      <td>-0.418417</td>\n",
              "      <td>3.095887</td>\n",
              "      <td>-0.163603</td>\n",
              "      <td>-0.209859</td>\n",
              "      <td>0.661976</td>\n",
              "      <td>0.218319</td>\n",
              "      <td>0.357077</td>\n",
              "    </tr>\n",
              "    <tr>\n",
              "      <th>3688</th>\n",
              "      <td>0.002193</td>\n",
              "      <td>0.813383</td>\n",
              "      <td>0.935986</td>\n",
              "      <td>0.265912</td>\n",
              "      <td>0.734004</td>\n",
              "      <td>-0.459451</td>\n",
              "      <td>0.513200</td>\n",
              "      <td>0.520248</td>\n",
              "      <td>0.033724</td>\n",
              "      <td>0.090590</td>\n",
              "      <td>...</td>\n",
              "      <td>-0.319086</td>\n",
              "      <td>-0.271606</td>\n",
              "      <td>-0.444549</td>\n",
              "      <td>1.076003</td>\n",
              "      <td>1.093112</td>\n",
              "      <td>-0.217079</td>\n",
              "      <td>-0.229797</td>\n",
              "      <td>0.449430</td>\n",
              "      <td>0.218319</td>\n",
              "      <td>0.357077</td>\n",
              "    </tr>\n",
              "  </tbody>\n",
              "</table>\n",
              "<p>3689 rows × 65 columns</p>\n",
              "</div>\n",
              "      <button class=\"colab-df-convert\" onclick=\"convertToInteractive('df-a2ace404-7392-4b91-b8e3-6938b207494c')\"\n",
              "              title=\"Convert this dataframe to an interactive table.\"\n",
              "              style=\"display:none;\">\n",
              "        \n",
              "  <svg xmlns=\"http://www.w3.org/2000/svg\" height=\"24px\"viewBox=\"0 0 24 24\"\n",
              "       width=\"24px\">\n",
              "    <path d=\"M0 0h24v24H0V0z\" fill=\"none\"/>\n",
              "    <path d=\"M18.56 5.44l.94 2.06.94-2.06 2.06-.94-2.06-.94-.94-2.06-.94 2.06-2.06.94zm-11 1L8.5 8.5l.94-2.06 2.06-.94-2.06-.94L8.5 2.5l-.94 2.06-2.06.94zm10 10l.94 2.06.94-2.06 2.06-.94-2.06-.94-.94-2.06-.94 2.06-2.06.94z\"/><path d=\"M17.41 7.96l-1.37-1.37c-.4-.4-.92-.59-1.43-.59-.52 0-1.04.2-1.43.59L10.3 9.45l-7.72 7.72c-.78.78-.78 2.05 0 2.83L4 21.41c.39.39.9.59 1.41.59.51 0 1.02-.2 1.41-.59l7.78-7.78 2.81-2.81c.8-.78.8-2.07 0-2.86zM5.41 20L4 18.59l7.72-7.72 1.47 1.35L5.41 20z\"/>\n",
              "  </svg>\n",
              "      </button>\n",
              "      \n",
              "  <style>\n",
              "    .colab-df-container {\n",
              "      display:flex;\n",
              "      flex-wrap:wrap;\n",
              "      gap: 12px;\n",
              "    }\n",
              "\n",
              "    .colab-df-convert {\n",
              "      background-color: #E8F0FE;\n",
              "      border: none;\n",
              "      border-radius: 50%;\n",
              "      cursor: pointer;\n",
              "      display: none;\n",
              "      fill: #1967D2;\n",
              "      height: 32px;\n",
              "      padding: 0 0 0 0;\n",
              "      width: 32px;\n",
              "    }\n",
              "\n",
              "    .colab-df-convert:hover {\n",
              "      background-color: #E2EBFA;\n",
              "      box-shadow: 0px 1px 2px rgba(60, 64, 67, 0.3), 0px 1px 3px 1px rgba(60, 64, 67, 0.15);\n",
              "      fill: #174EA6;\n",
              "    }\n",
              "\n",
              "    [theme=dark] .colab-df-convert {\n",
              "      background-color: #3B4455;\n",
              "      fill: #D2E3FC;\n",
              "    }\n",
              "\n",
              "    [theme=dark] .colab-df-convert:hover {\n",
              "      background-color: #434B5C;\n",
              "      box-shadow: 0px 1px 3px 1px rgba(0, 0, 0, 0.15);\n",
              "      filter: drop-shadow(0px 1px 2px rgba(0, 0, 0, 0.3));\n",
              "      fill: #FFFFFF;\n",
              "    }\n",
              "  </style>\n",
              "\n",
              "      <script>\n",
              "        const buttonEl =\n",
              "          document.querySelector('#df-a2ace404-7392-4b91-b8e3-6938b207494c button.colab-df-convert');\n",
              "        buttonEl.style.display =\n",
              "          google.colab.kernel.accessAllowed ? 'block' : 'none';\n",
              "\n",
              "        async function convertToInteractive(key) {\n",
              "          const element = document.querySelector('#df-a2ace404-7392-4b91-b8e3-6938b207494c');\n",
              "          const dataTable =\n",
              "            await google.colab.kernel.invokeFunction('convertToInteractive',\n",
              "                                                     [key], {});\n",
              "          if (!dataTable) return;\n",
              "\n",
              "          const docLinkHtml = 'Like what you see? Visit the ' +\n",
              "            '<a target=\"_blank\" href=https://colab.research.google.com/notebooks/data_table.ipynb>data table notebook</a>'\n",
              "            + ' to learn more about interactive tables.';\n",
              "          element.innerHTML = '';\n",
              "          dataTable['output_type'] = 'display_data';\n",
              "          await google.colab.output.renderOutput(dataTable, element);\n",
              "          const docLink = document.createElement('div');\n",
              "          docLink.innerHTML = docLinkHtml;\n",
              "          element.appendChild(docLink);\n",
              "        }\n",
              "      </script>\n",
              "    </div>\n",
              "  </div>\n",
              "  "
            ]
          },
          "metadata": {},
          "execution_count": 9
        }
      ],
      "source": [
        "excel_pobE.columns = col_names\n",
        "excel_pobE"
      ]
    },
    {
      "cell_type": "code",
      "execution_count": 10,
      "id": "683b5e52",
      "metadata": {
        "colab": {
          "base_uri": "https://localhost:8080/",
          "height": 488
        },
        "id": "683b5e52",
        "outputId": "ff9c352f-5922-41e8-87ee-4a7f47c6e950"
      },
      "outputs": [
        {
          "output_type": "execute_result",
          "data": {
            "text/plain": [
              "      MINMDT    MAXMDT  RANGEMDT   MEANMDT    STDMDT  MINPENDI  MAXPENDI  \\\n",
              "0  -0.402693 -0.585066 -0.515073 -0.571959 -0.484544 -0.617680 -0.750495   \n",
              "1  -0.707666 -1.150462 -1.052907 -1.038143 -1.114631 -0.617680 -1.445488   \n",
              "2  -0.694780 -0.857607 -0.705258 -0.799372 -0.694889  0.139471 -0.572225   \n",
              "3   0.190071  0.075127  0.000266  0.134557 -0.110590  0.453093 -0.199613   \n",
              "4  -0.200810 -0.117853 -0.046769 -0.259507 -0.090229  0.139471 -0.274067   \n",
              "..       ...       ...       ...       ...       ...       ...       ...   \n",
              "95  0.379068  1.327800  1.423584  0.845198  1.015747  0.139471  2.006364   \n",
              "96 -0.037585 -0.046755 -0.038589  0.026511  0.312939 -0.617680 -0.011199   \n",
              "97 -0.681894 -0.779738 -0.617323 -0.880846 -0.723239  0.139471 -1.036582   \n",
              "98 -0.028994 -0.275283 -0.318754 -0.162282 -0.156281  1.075354 -0.862325   \n",
              "99 -0.694780 -0.151709  0.147506 -0.582016  0.163744 -0.617680  0.137767   \n",
              "\n",
              "    RANGEPENDI  MEANPENDI  STDPENDI  ...    NFARMA  NCENTEDUC  DISTHOSPIT  \\\n",
              "0    -0.745158  -0.240601 -0.168367  ...  0.051709  -0.408267   -0.573005   \n",
              "1    -1.443370  -1.252196 -1.518940  ...  0.698068   0.151003   -1.087375   \n",
              "2    -0.576865  -0.627831 -0.950273  ... -0.594651  -0.128632   -0.877403   \n",
              "3    -0.207002   0.294096 -0.590308  ... -0.594651  -0.408267   -0.174906   \n",
              "4    -0.277326   0.025496 -0.180280  ... -0.594651  -0.408267   -0.174497   \n",
              "..         ...        ...       ...  ...       ...        ...         ...   \n",
              "95    2.013668   1.841687  1.074028  ...  0.051709  -0.128632    0.890074   \n",
              "96   -0.002438   0.050570  0.018287  ...  0.051709  -0.128632    0.227706   \n",
              "97   -1.043373  -0.696907 -0.638476  ... -0.594651  -0.408267   -0.822721   \n",
              "98   -0.881662  -0.301776 -0.930469  ... -0.594651  -0.408267    0.084103   \n",
              "99    0.147218   0.082202  0.492180  ...  0.051709  -0.128632   -0.855263   \n",
              "\n",
              "    DISTFARMA  DISTATPRIM  VIVTUR21     PLA21   CBMAS30     COB3G     COB4G  \n",
              "0    0.286487   -1.032450 -0.592289 -0.479842 -0.092757 -0.348018  0.103243  \n",
              "1   -0.829832   -0.863504  2.879259  2.950267  0.809371  0.167564  0.223996  \n",
              "2   -0.641886   -0.886652  0.706590  0.654194  0.739976  0.167564  0.223996  \n",
              "3    1.463990   -0.757277 -0.686752 -0.694515 -1.480646  0.167564  0.223996  \n",
              "4   -0.163396   -0.496238 -0.733984 -0.801852  0.786239  0.167564  0.223996  \n",
              "..        ...         ...       ...       ...       ...       ...       ...  \n",
              "95  -0.297260    1.373555 -0.568673 -0.615180 -0.809833  0.167564  0.223996  \n",
              "96  -0.898911   -0.370633 -0.261665 -0.059829  0.832502  0.167564  0.223996  \n",
              "97   1.310790   -1.253892 -0.568673 -0.549844  0.786239  0.167564  0.223996  \n",
              "98   0.406274   -0.173235 -0.804832 -0.848520 -0.347204  0.167564  0.223996  \n",
              "99  -0.713364    0.318243  0.021727  0.070842  0.832502  0.167564  0.223996  \n",
              "\n",
              "[100 rows x 65 columns]"
            ],
            "text/html": [
              "\n",
              "  <div id=\"df-cfef95ca-50f0-4d8a-9cca-ed3f0dc211e9\">\n",
              "    <div class=\"colab-df-container\">\n",
              "      <div>\n",
              "<style scoped>\n",
              "    .dataframe tbody tr th:only-of-type {\n",
              "        vertical-align: middle;\n",
              "    }\n",
              "\n",
              "    .dataframe tbody tr th {\n",
              "        vertical-align: top;\n",
              "    }\n",
              "\n",
              "    .dataframe thead th {\n",
              "        text-align: right;\n",
              "    }\n",
              "</style>\n",
              "<table border=\"1\" class=\"dataframe\">\n",
              "  <thead>\n",
              "    <tr style=\"text-align: right;\">\n",
              "      <th></th>\n",
              "      <th>MINMDT</th>\n",
              "      <th>MAXMDT</th>\n",
              "      <th>RANGEMDT</th>\n",
              "      <th>MEANMDT</th>\n",
              "      <th>STDMDT</th>\n",
              "      <th>MINPENDI</th>\n",
              "      <th>MAXPENDI</th>\n",
              "      <th>RANGEPENDI</th>\n",
              "      <th>MEANPENDI</th>\n",
              "      <th>STDPENDI</th>\n",
              "      <th>...</th>\n",
              "      <th>NFARMA</th>\n",
              "      <th>NCENTEDUC</th>\n",
              "      <th>DISTHOSPIT</th>\n",
              "      <th>DISTFARMA</th>\n",
              "      <th>DISTATPRIM</th>\n",
              "      <th>VIVTUR21</th>\n",
              "      <th>PLA21</th>\n",
              "      <th>CBMAS30</th>\n",
              "      <th>COB3G</th>\n",
              "      <th>COB4G</th>\n",
              "    </tr>\n",
              "  </thead>\n",
              "  <tbody>\n",
              "    <tr>\n",
              "      <th>0</th>\n",
              "      <td>-0.402693</td>\n",
              "      <td>-0.585066</td>\n",
              "      <td>-0.515073</td>\n",
              "      <td>-0.571959</td>\n",
              "      <td>-0.484544</td>\n",
              "      <td>-0.617680</td>\n",
              "      <td>-0.750495</td>\n",
              "      <td>-0.745158</td>\n",
              "      <td>-0.240601</td>\n",
              "      <td>-0.168367</td>\n",
              "      <td>...</td>\n",
              "      <td>0.051709</td>\n",
              "      <td>-0.408267</td>\n",
              "      <td>-0.573005</td>\n",
              "      <td>0.286487</td>\n",
              "      <td>-1.032450</td>\n",
              "      <td>-0.592289</td>\n",
              "      <td>-0.479842</td>\n",
              "      <td>-0.092757</td>\n",
              "      <td>-0.348018</td>\n",
              "      <td>0.103243</td>\n",
              "    </tr>\n",
              "    <tr>\n",
              "      <th>1</th>\n",
              "      <td>-0.707666</td>\n",
              "      <td>-1.150462</td>\n",
              "      <td>-1.052907</td>\n",
              "      <td>-1.038143</td>\n",
              "      <td>-1.114631</td>\n",
              "      <td>-0.617680</td>\n",
              "      <td>-1.445488</td>\n",
              "      <td>-1.443370</td>\n",
              "      <td>-1.252196</td>\n",
              "      <td>-1.518940</td>\n",
              "      <td>...</td>\n",
              "      <td>0.698068</td>\n",
              "      <td>0.151003</td>\n",
              "      <td>-1.087375</td>\n",
              "      <td>-0.829832</td>\n",
              "      <td>-0.863504</td>\n",
              "      <td>2.879259</td>\n",
              "      <td>2.950267</td>\n",
              "      <td>0.809371</td>\n",
              "      <td>0.167564</td>\n",
              "      <td>0.223996</td>\n",
              "    </tr>\n",
              "    <tr>\n",
              "      <th>2</th>\n",
              "      <td>-0.694780</td>\n",
              "      <td>-0.857607</td>\n",
              "      <td>-0.705258</td>\n",
              "      <td>-0.799372</td>\n",
              "      <td>-0.694889</td>\n",
              "      <td>0.139471</td>\n",
              "      <td>-0.572225</td>\n",
              "      <td>-0.576865</td>\n",
              "      <td>-0.627831</td>\n",
              "      <td>-0.950273</td>\n",
              "      <td>...</td>\n",
              "      <td>-0.594651</td>\n",
              "      <td>-0.128632</td>\n",
              "      <td>-0.877403</td>\n",
              "      <td>-0.641886</td>\n",
              "      <td>-0.886652</td>\n",
              "      <td>0.706590</td>\n",
              "      <td>0.654194</td>\n",
              "      <td>0.739976</td>\n",
              "      <td>0.167564</td>\n",
              "      <td>0.223996</td>\n",
              "    </tr>\n",
              "    <tr>\n",
              "      <th>3</th>\n",
              "      <td>0.190071</td>\n",
              "      <td>0.075127</td>\n",
              "      <td>0.000266</td>\n",
              "      <td>0.134557</td>\n",
              "      <td>-0.110590</td>\n",
              "      <td>0.453093</td>\n",
              "      <td>-0.199613</td>\n",
              "      <td>-0.207002</td>\n",
              "      <td>0.294096</td>\n",
              "      <td>-0.590308</td>\n",
              "      <td>...</td>\n",
              "      <td>-0.594651</td>\n",
              "      <td>-0.408267</td>\n",
              "      <td>-0.174906</td>\n",
              "      <td>1.463990</td>\n",
              "      <td>-0.757277</td>\n",
              "      <td>-0.686752</td>\n",
              "      <td>-0.694515</td>\n",
              "      <td>-1.480646</td>\n",
              "      <td>0.167564</td>\n",
              "      <td>0.223996</td>\n",
              "    </tr>\n",
              "    <tr>\n",
              "      <th>4</th>\n",
              "      <td>-0.200810</td>\n",
              "      <td>-0.117853</td>\n",
              "      <td>-0.046769</td>\n",
              "      <td>-0.259507</td>\n",
              "      <td>-0.090229</td>\n",
              "      <td>0.139471</td>\n",
              "      <td>-0.274067</td>\n",
              "      <td>-0.277326</td>\n",
              "      <td>0.025496</td>\n",
              "      <td>-0.180280</td>\n",
              "      <td>...</td>\n",
              "      <td>-0.594651</td>\n",
              "      <td>-0.408267</td>\n",
              "      <td>-0.174497</td>\n",
              "      <td>-0.163396</td>\n",
              "      <td>-0.496238</td>\n",
              "      <td>-0.733984</td>\n",
              "      <td>-0.801852</td>\n",
              "      <td>0.786239</td>\n",
              "      <td>0.167564</td>\n",
              "      <td>0.223996</td>\n",
              "    </tr>\n",
              "    <tr>\n",
              "      <th>...</th>\n",
              "      <td>...</td>\n",
              "      <td>...</td>\n",
              "      <td>...</td>\n",
              "      <td>...</td>\n",
              "      <td>...</td>\n",
              "      <td>...</td>\n",
              "      <td>...</td>\n",
              "      <td>...</td>\n",
              "      <td>...</td>\n",
              "      <td>...</td>\n",
              "      <td>...</td>\n",
              "      <td>...</td>\n",
              "      <td>...</td>\n",
              "      <td>...</td>\n",
              "      <td>...</td>\n",
              "      <td>...</td>\n",
              "      <td>...</td>\n",
              "      <td>...</td>\n",
              "      <td>...</td>\n",
              "      <td>...</td>\n",
              "      <td>...</td>\n",
              "    </tr>\n",
              "    <tr>\n",
              "      <th>95</th>\n",
              "      <td>0.379068</td>\n",
              "      <td>1.327800</td>\n",
              "      <td>1.423584</td>\n",
              "      <td>0.845198</td>\n",
              "      <td>1.015747</td>\n",
              "      <td>0.139471</td>\n",
              "      <td>2.006364</td>\n",
              "      <td>2.013668</td>\n",
              "      <td>1.841687</td>\n",
              "      <td>1.074028</td>\n",
              "      <td>...</td>\n",
              "      <td>0.051709</td>\n",
              "      <td>-0.128632</td>\n",
              "      <td>0.890074</td>\n",
              "      <td>-0.297260</td>\n",
              "      <td>1.373555</td>\n",
              "      <td>-0.568673</td>\n",
              "      <td>-0.615180</td>\n",
              "      <td>-0.809833</td>\n",
              "      <td>0.167564</td>\n",
              "      <td>0.223996</td>\n",
              "    </tr>\n",
              "    <tr>\n",
              "      <th>96</th>\n",
              "      <td>-0.037585</td>\n",
              "      <td>-0.046755</td>\n",
              "      <td>-0.038589</td>\n",
              "      <td>0.026511</td>\n",
              "      <td>0.312939</td>\n",
              "      <td>-0.617680</td>\n",
              "      <td>-0.011199</td>\n",
              "      <td>-0.002438</td>\n",
              "      <td>0.050570</td>\n",
              "      <td>0.018287</td>\n",
              "      <td>...</td>\n",
              "      <td>0.051709</td>\n",
              "      <td>-0.128632</td>\n",
              "      <td>0.227706</td>\n",
              "      <td>-0.898911</td>\n",
              "      <td>-0.370633</td>\n",
              "      <td>-0.261665</td>\n",
              "      <td>-0.059829</td>\n",
              "      <td>0.832502</td>\n",
              "      <td>0.167564</td>\n",
              "      <td>0.223996</td>\n",
              "    </tr>\n",
              "    <tr>\n",
              "      <th>97</th>\n",
              "      <td>-0.681894</td>\n",
              "      <td>-0.779738</td>\n",
              "      <td>-0.617323</td>\n",
              "      <td>-0.880846</td>\n",
              "      <td>-0.723239</td>\n",
              "      <td>0.139471</td>\n",
              "      <td>-1.036582</td>\n",
              "      <td>-1.043373</td>\n",
              "      <td>-0.696907</td>\n",
              "      <td>-0.638476</td>\n",
              "      <td>...</td>\n",
              "      <td>-0.594651</td>\n",
              "      <td>-0.408267</td>\n",
              "      <td>-0.822721</td>\n",
              "      <td>1.310790</td>\n",
              "      <td>-1.253892</td>\n",
              "      <td>-0.568673</td>\n",
              "      <td>-0.549844</td>\n",
              "      <td>0.786239</td>\n",
              "      <td>0.167564</td>\n",
              "      <td>0.223996</td>\n",
              "    </tr>\n",
              "    <tr>\n",
              "      <th>98</th>\n",
              "      <td>-0.028994</td>\n",
              "      <td>-0.275283</td>\n",
              "      <td>-0.318754</td>\n",
              "      <td>-0.162282</td>\n",
              "      <td>-0.156281</td>\n",
              "      <td>1.075354</td>\n",
              "      <td>-0.862325</td>\n",
              "      <td>-0.881662</td>\n",
              "      <td>-0.301776</td>\n",
              "      <td>-0.930469</td>\n",
              "      <td>...</td>\n",
              "      <td>-0.594651</td>\n",
              "      <td>-0.408267</td>\n",
              "      <td>0.084103</td>\n",
              "      <td>0.406274</td>\n",
              "      <td>-0.173235</td>\n",
              "      <td>-0.804832</td>\n",
              "      <td>-0.848520</td>\n",
              "      <td>-0.347204</td>\n",
              "      <td>0.167564</td>\n",
              "      <td>0.223996</td>\n",
              "    </tr>\n",
              "    <tr>\n",
              "      <th>99</th>\n",
              "      <td>-0.694780</td>\n",
              "      <td>-0.151709</td>\n",
              "      <td>0.147506</td>\n",
              "      <td>-0.582016</td>\n",
              "      <td>0.163744</td>\n",
              "      <td>-0.617680</td>\n",
              "      <td>0.137767</td>\n",
              "      <td>0.147218</td>\n",
              "      <td>0.082202</td>\n",
              "      <td>0.492180</td>\n",
              "      <td>...</td>\n",
              "      <td>0.051709</td>\n",
              "      <td>-0.128632</td>\n",
              "      <td>-0.855263</td>\n",
              "      <td>-0.713364</td>\n",
              "      <td>0.318243</td>\n",
              "      <td>0.021727</td>\n",
              "      <td>0.070842</td>\n",
              "      <td>0.832502</td>\n",
              "      <td>0.167564</td>\n",
              "      <td>0.223996</td>\n",
              "    </tr>\n",
              "  </tbody>\n",
              "</table>\n",
              "<p>100 rows × 65 columns</p>\n",
              "</div>\n",
              "      <button class=\"colab-df-convert\" onclick=\"convertToInteractive('df-cfef95ca-50f0-4d8a-9cca-ed3f0dc211e9')\"\n",
              "              title=\"Convert this dataframe to an interactive table.\"\n",
              "              style=\"display:none;\">\n",
              "        \n",
              "  <svg xmlns=\"http://www.w3.org/2000/svg\" height=\"24px\"viewBox=\"0 0 24 24\"\n",
              "       width=\"24px\">\n",
              "    <path d=\"M0 0h24v24H0V0z\" fill=\"none\"/>\n",
              "    <path d=\"M18.56 5.44l.94 2.06.94-2.06 2.06-.94-2.06-.94-.94-2.06-.94 2.06-2.06.94zm-11 1L8.5 8.5l.94-2.06 2.06-.94-2.06-.94L8.5 2.5l-.94 2.06-2.06.94zm10 10l.94 2.06.94-2.06 2.06-.94-2.06-.94-.94-2.06-.94 2.06-2.06.94z\"/><path d=\"M17.41 7.96l-1.37-1.37c-.4-.4-.92-.59-1.43-.59-.52 0-1.04.2-1.43.59L10.3 9.45l-7.72 7.72c-.78.78-.78 2.05 0 2.83L4 21.41c.39.39.9.59 1.41.59.51 0 1.02-.2 1.41-.59l7.78-7.78 2.81-2.81c.8-.78.8-2.07 0-2.86zM5.41 20L4 18.59l7.72-7.72 1.47 1.35L5.41 20z\"/>\n",
              "  </svg>\n",
              "      </button>\n",
              "      \n",
              "  <style>\n",
              "    .colab-df-container {\n",
              "      display:flex;\n",
              "      flex-wrap:wrap;\n",
              "      gap: 12px;\n",
              "    }\n",
              "\n",
              "    .colab-df-convert {\n",
              "      background-color: #E8F0FE;\n",
              "      border: none;\n",
              "      border-radius: 50%;\n",
              "      cursor: pointer;\n",
              "      display: none;\n",
              "      fill: #1967D2;\n",
              "      height: 32px;\n",
              "      padding: 0 0 0 0;\n",
              "      width: 32px;\n",
              "    }\n",
              "\n",
              "    .colab-df-convert:hover {\n",
              "      background-color: #E2EBFA;\n",
              "      box-shadow: 0px 1px 2px rgba(60, 64, 67, 0.3), 0px 1px 3px 1px rgba(60, 64, 67, 0.15);\n",
              "      fill: #174EA6;\n",
              "    }\n",
              "\n",
              "    [theme=dark] .colab-df-convert {\n",
              "      background-color: #3B4455;\n",
              "      fill: #D2E3FC;\n",
              "    }\n",
              "\n",
              "    [theme=dark] .colab-df-convert:hover {\n",
              "      background-color: #434B5C;\n",
              "      box-shadow: 0px 1px 3px 1px rgba(0, 0, 0, 0.15);\n",
              "      filter: drop-shadow(0px 1px 2px rgba(0, 0, 0, 0.3));\n",
              "      fill: #FFFFFF;\n",
              "    }\n",
              "  </style>\n",
              "\n",
              "      <script>\n",
              "        const buttonEl =\n",
              "          document.querySelector('#df-cfef95ca-50f0-4d8a-9cca-ed3f0dc211e9 button.colab-df-convert');\n",
              "        buttonEl.style.display =\n",
              "          google.colab.kernel.accessAllowed ? 'block' : 'none';\n",
              "\n",
              "        async function convertToInteractive(key) {\n",
              "          const element = document.querySelector('#df-cfef95ca-50f0-4d8a-9cca-ed3f0dc211e9');\n",
              "          const dataTable =\n",
              "            await google.colab.kernel.invokeFunction('convertToInteractive',\n",
              "                                                     [key], {});\n",
              "          if (!dataTable) return;\n",
              "\n",
              "          const docLinkHtml = 'Like what you see? Visit the ' +\n",
              "            '<a target=\"_blank\" href=https://colab.research.google.com/notebooks/data_table.ipynb>data table notebook</a>'\n",
              "            + ' to learn more about interactive tables.';\n",
              "          element.innerHTML = '';\n",
              "          dataTable['output_type'] = 'display_data';\n",
              "          await google.colab.output.renderOutput(dataTable, element);\n",
              "          const docLink = document.createElement('div');\n",
              "          docLink.innerHTML = docLinkHtml;\n",
              "          element.appendChild(docLink);\n",
              "        }\n",
              "      </script>\n",
              "    </div>\n",
              "  </div>\n",
              "  "
            ]
          },
          "metadata": {},
          "execution_count": 10
        }
      ],
      "source": [
        "excel_cantabriaE.columns = col_names\n",
        "excel_cantabriaE"
      ]
    },
    {
      "cell_type": "code",
      "execution_count": 10,
      "id": "a388b142",
      "metadata": {
        "id": "a388b142"
      },
      "outputs": [],
      "source": [
        ""
      ]
    },
    {
      "cell_type": "markdown",
      "id": "94026e8f",
      "metadata": {
        "id": "94026e8f"
      },
      "source": [
        "## Partición en train y set"
      ]
    },
    {
      "cell_type": "markdown",
      "id": "4801d9d4",
      "metadata": {
        "id": "4801d9d4"
      },
      "source": [
        "Juntamos primeramente las variables objetivo con el resto de variables en un mismo dataset para poder hacer la partición:"
      ]
    },
    {
      "cell_type": "code",
      "execution_count": 11,
      "id": "a69011c3",
      "metadata": {
        "id": "a69011c3"
      },
      "outputs": [],
      "source": [
        "excel_pobE['y_todas'] = y_todas\n",
        "excel_cantabriaE['y_todasC'] = y_todasC"
      ]
    },
    {
      "cell_type": "code",
      "execution_count": 12,
      "id": "57b4ec52",
      "metadata": {
        "id": "57b4ec52"
      },
      "outputs": [],
      "source": [
        "#España\n",
        "seed(2022)\n",
        "train, test = train_test_split(excel_pobE, test_size=0.3)\n",
        "\n",
        "#Cantabria\n",
        "train_C, test_C = train_test_split(excel_cantabriaE, test_size=0.3)"
      ]
    },
    {
      "cell_type": "markdown",
      "id": "cd919f96",
      "metadata": {
        "id": "cd919f96"
      },
      "source": [
        "Eliminamos los missing values, si los hubiera:"
      ]
    },
    {
      "cell_type": "code",
      "execution_count": 13,
      "id": "3c7ed4ed",
      "metadata": {
        "id": "3c7ed4ed"
      },
      "outputs": [],
      "source": [
        "train = train.dropna()\n",
        "test = test.dropna()\n",
        "\n",
        "train_C = train_C.dropna()\n",
        "test_C = test_C.dropna()"
      ]
    },
    {
      "cell_type": "code",
      "execution_count": 13,
      "id": "562e1391",
      "metadata": {
        "id": "562e1391"
      },
      "outputs": [],
      "source": [
        ""
      ]
    },
    {
      "cell_type": "code",
      "execution_count": 14,
      "id": "00bce021",
      "metadata": {
        "id": "00bce021"
      },
      "outputs": [],
      "source": [
        "#Train\n",
        "train_todas = train['y_todas']\n",
        "train_todasC = train_C['y_todasC']\n",
        "\n",
        "#Test\n",
        "test_todas = test['y_todas']\n",
        "test_todasC = test_C['y_todasC']"
      ]
    },
    {
      "cell_type": "code",
      "execution_count": 15,
      "id": "e8d4d921",
      "metadata": {
        "id": "e8d4d921"
      },
      "outputs": [],
      "source": [
        "#Eliminamos la variable objetivo de los datasets.\n",
        "train = train.drop(['y_todas'], axis=1)\n",
        "train_C = train_C.drop(['y_todasC'], axis=1)\n",
        "\n",
        "test = test.drop(['y_todas'], axis=1)\n",
        "test_C = test_C.drop(['y_todasC'], axis=1)"
      ]
    },
    {
      "cell_type": "code",
      "execution_count": 15,
      "id": "3623939e",
      "metadata": {
        "id": "3623939e"
      },
      "outputs": [],
      "source": [
        ""
      ]
    },
    {
      "cell_type": "markdown",
      "id": "79162d35",
      "metadata": {
        "id": "79162d35"
      },
      "source": [
        "## Random Forest"
      ]
    },
    {
      "cell_type": "markdown",
      "id": "fd0ecc57",
      "metadata": {
        "id": "fd0ecc57"
      },
      "source": [
        "### España"
      ]
    },
    {
      "cell_type": "markdown",
      "id": "15f7740a",
      "metadata": {
        "id": "15f7740a"
      },
      "source": [
        "Antes de comenzar a crear el modelo, es necesario ver cuántos árboles son necesarios introducir en el random forest. El siguiente fragmento de código está basado en el código que figura en la página oficial de sklearn para el error OOB: https://scikit-learn.org/stable/auto_examples/ensemble/plot_ensemble_oob.html"
      ]
    },
    {
      "cell_type": "code",
      "source": [
        "plt.rcParams[\"figure.figsize\"] = (9,9) #Para hacer las figuras más grandes"
      ],
      "metadata": {
        "id": "Diud5xUtcsiL"
      },
      "id": "Diud5xUtcsiL",
      "execution_count": 16,
      "outputs": []
    },
    {
      "cell_type": "code",
      "execution_count": 17,
      "id": "036a7c7e",
      "metadata": {
        "scrolled": false,
        "colab": {
          "base_uri": "https://localhost:8080/",
          "height": 676
        },
        "id": "036a7c7e",
        "outputId": "b31c5065-e8c2-4f1b-89e3-5d56aa0d2021"
      },
      "outputs": [
        {
          "output_type": "stream",
          "name": "stderr",
          "text": [
            "/usr/local/lib/python3.7/dist-packages/sklearn/ensemble/_forest.py:564: UserWarning: Some inputs do not have OOB scores. This probably means too few trees were used to compute any reliable OOB estimates.\n",
            "  UserWarning,\n",
            "/usr/local/lib/python3.7/dist-packages/sklearn/ensemble/_forest.py:564: UserWarning: Some inputs do not have OOB scores. This probably means too few trees were used to compute any reliable OOB estimates.\n",
            "  UserWarning,\n",
            "/usr/local/lib/python3.7/dist-packages/sklearn/ensemble/_forest.py:564: UserWarning: Some inputs do not have OOB scores. This probably means too few trees were used to compute any reliable OOB estimates.\n",
            "  UserWarning,\n"
          ]
        },
        {
          "output_type": "display_data",
          "data": {
            "text/plain": [
              "<Figure size 648x648 with 1 Axes>"
            ],
            "image/png": "[encoded data removed]"
          },
          "metadata": {
            "needs_background": "light"
          }
        }
      ],
      "source": [
        "RANDOM_STATE=2022\n",
        "\n",
        "ensemble_clfs = [\n",
        "    (\n",
        "        \"RandomForestClassifier, max_features='sqrt'\",\n",
        "        RandomForestClassifier(\n",
        "            warm_start=True,\n",
        "            oob_score=True,\n",
        "            max_features=\"sqrt\",\n",
        "            random_state=RANDOM_STATE,\n",
        "        ),\n",
        "    ),\n",
        "]\n",
        "\n",
        "# Map a classifier name to a list of (<n_estimators>, <error rate>) pairs.\n",
        "error_rate = OrderedDict((label, []) for label, _ in ensemble_clfs)\n",
        "\n",
        "# Range of `n_estimators` values to explore.\n",
        "min_estimators = 5\n",
        "max_estimators = 500\n",
        "\n",
        "for label, clf in ensemble_clfs:\n",
        "    for i in range(min_estimators, max_estimators + 1, 5):\n",
        "        clf.set_params(n_estimators=i)\n",
        "        clf.fit(train, train_todas)\n",
        "\n",
        "        # Record the OOB error for each `n_estimators=i` setting.\n",
        "        oob_error = 1 - clf.oob_score_\n",
        "        error_rate[label].append((i, oob_error))\n",
        "\n",
        "# Generate the \"OOB error rate\" vs. \"n_estimators\" plot.\n",
        "for label, clf_err in error_rate.items():\n",
        "    xs, ys = zip(*clf_err)\n",
        "    plt.plot(xs, ys, label=label)\n",
        "\n",
        "plt.xlim(min_estimators, max_estimators)\n",
        "plt.xlabel(\"n_estimators\")\n",
        "plt.ylabel(\"OOB error rate\")\n",
        "plt.show()"
      ]
    },
    {
      "cell_type": "markdown",
      "id": "bd389824",
      "metadata": {
        "id": "bd389824"
      },
      "source": [
        "Una vez calculado el OOB error, se puede tomar una decisión sobre cuántos árboles considerar. En este caso, se puede ver que con 200 árboles sería suficiente."
      ]
    },
    {
      "cell_type": "code",
      "execution_count": 18,
      "id": "b96cc839",
      "metadata": {
        "id": "b96cc839"
      },
      "outputs": [],
      "source": [
        "rf_best = RandomForestClassifier(n_estimators = 200, max_features=\"sqrt\", oob_score=True, random_state = 2022)"
      ]
    },
    {
      "cell_type": "code",
      "execution_count": 19,
      "id": "92f51578",
      "metadata": {
        "id": "92f51578"
      },
      "outputs": [],
      "source": [
        "fit_best = rf_best.fit(train, train_todas)"
      ]
    },
    {
      "cell_type": "markdown",
      "id": "b66c4309",
      "metadata": {
        "id": "b66c4309"
      },
      "source": [
        "Calculamos el accuracy:"
      ]
    },
    {
      "cell_type": "code",
      "execution_count": 20,
      "id": "d32965b2",
      "metadata": {
        "colab": {
          "base_uri": "https://localhost:8080/"
        },
        "id": "d32965b2",
        "outputId": "1d6ca198-6025-401b-9b43-3f5d862da201"
      },
      "outputs": [
        {
          "output_type": "execute_result",
          "data": {
            "text/plain": [
              "0.966576332429991"
            ]
          },
          "metadata": {},
          "execution_count": 20
        }
      ],
      "source": [
        "score = rf_best.score(test, test_todas)\n",
        "score"
      ]
    },
    {
      "cell_type": "markdown",
      "id": "0966a05e",
      "metadata": {
        "id": "0966a05e"
      },
      "source": [
        "#### Features"
      ]
    },
    {
      "cell_type": "markdown",
      "id": "53f514bf",
      "metadata": {
        "id": "53f514bf"
      },
      "source": [
        "Se comienza realizando algunas transformaciones a los datos."
      ]
    },
    {
      "cell_type": "code",
      "execution_count": 21,
      "id": "65ad4930",
      "metadata": {
        "id": "65ad4930"
      },
      "outputs": [],
      "source": [
        "labels = np.array(y_todas) #Convertimos en etiquetas los valores de la variable objetivo mediante numpy array.\n",
        "feature_list = list(train.columns) #Guardamos los nombres de las columnas\n",
        "features = np.array(train) #Se transoforma a un array"
      ]
    },
    {
      "cell_type": "markdown",
      "id": "d10399cc",
      "metadata": {
        "id": "d10399cc"
      },
      "source": [
        "Visualicemos ahora las variables más importantes:"
      ]
    },
    {
      "cell_type": "code",
      "execution_count": 22,
      "id": "f3a88cd3",
      "metadata": {
        "id": "f3a88cd3"
      },
      "outputs": [],
      "source": [
        "features_rf_best = pd.Series(rf_best.feature_importances_, index=excel_pob.columns)\n",
        "features_rf_best = features_rf_best.sort_values(ascending=True)\n",
        "features_rf_best = features_rf_best.tail(65)"
      ]
    },
    {
      "cell_type": "code",
      "execution_count": 23,
      "id": "495662d8",
      "metadata": {
        "scrolled": true,
        "colab": {
          "base_uri": "https://localhost:8080/"
        },
        "id": "495662d8",
        "outputId": "d9a4cbeb-e926-47ee-f311-358fa73e5fe8"
      },
      "outputs": [
        {
          "output_type": "execute_result",
          "data": {
            "text/plain": [
              "COB3G       0.000695\n",
              "COB4G       0.000764\n",
              "NHOSPI      0.000956\n",
              "CBMAS30     0.002340\n",
              "MINPENDI    0.002602\n",
              "              ...   \n",
              "TJUVEN03    0.044308\n",
              "TJUVEN21    0.048228\n",
              "TJUVEN10    0.059074\n",
              "IENVEJ03    0.059084\n",
              "NFARMA      0.088086\n",
              "Length: 65, dtype: float64"
            ]
          },
          "metadata": {},
          "execution_count": 23
        }
      ],
      "source": [
        "features_rf_best"
      ]
    },
    {
      "cell_type": "markdown",
      "id": "474b236a",
      "metadata": {
        "id": "474b236a"
      },
      "source": [
        "Gráficamente:"
      ]
    },
    {
      "cell_type": "code",
      "execution_count": 24,
      "id": "eac02444",
      "metadata": {
        "colab": {
          "base_uri": "https://localhost:8080/",
          "height": 0
        },
        "id": "eac02444",
        "outputId": "66bfd562-e430-47dd-b838-9b42e4b38996"
      },
      "outputs": [
        {
          "output_type": "display_data",
          "data": {
            "text/plain": [
              "<Figure size 648x648 with 1 Axes>"
            ],
            "image/png": "[encoded data removed]"
          },
          "metadata": {
            "needs_background": "light"
          }
        }
      ],
      "source": [
        "plt.barh(features_rf_best.index, features_rf_best)\n",
        "plt.show()\n",
        "plt.rcParams[\"figure.figsize\"] = (12,12)"
      ]
    },
    {
      "cell_type": "code",
      "execution_count": 24,
      "id": "68f80d47",
      "metadata": {
        "id": "68f80d47"
      },
      "outputs": [],
      "source": [
        ""
      ]
    },
    {
      "cell_type": "code",
      "source": [
        ""
      ],
      "metadata": {
        "id": "BqOgKQKYS9iy"
      },
      "id": "BqOgKQKYS9iy",
      "execution_count": 24,
      "outputs": []
    },
    {
      "cell_type": "markdown",
      "metadata": {
        "id": "83780f48"
      },
      "source": [
        "### Cantabria"
      ],
      "id": "83780f48"
    },
    {
      "cell_type": "markdown",
      "source": [
        "Se repite el procedimiento anterior:"
      ],
      "metadata": {
        "id": "CwPDW0VJtBg0"
      },
      "id": "CwPDW0VJtBg0"
    },
    {
      "cell_type": "code",
      "execution_count": 25,
      "metadata": {
        "colab": {
          "base_uri": "https://localhost:8080/",
          "height": 839
        },
        "id": "25d73cb3",
        "outputId": "641875e1-d6db-49da-9b4f-40313c98d120"
      },
      "outputs": [
        {
          "output_type": "stream",
          "name": "stderr",
          "text": [
            "/usr/local/lib/python3.7/dist-packages/sklearn/ensemble/_forest.py:564: UserWarning: Some inputs do not have OOB scores. This probably means too few trees were used to compute any reliable OOB estimates.\n",
            "  UserWarning,\n",
            "/usr/local/lib/python3.7/dist-packages/sklearn/ensemble/_forest.py:564: UserWarning: Some inputs do not have OOB scores. This probably means too few trees were used to compute any reliable OOB estimates.\n",
            "  UserWarning,\n",
            "/usr/local/lib/python3.7/dist-packages/sklearn/ensemble/_forest.py:564: UserWarning: Some inputs do not have OOB scores. This probably means too few trees were used to compute any reliable OOB estimates.\n",
            "  UserWarning,\n"
          ]
        },
        {
          "output_type": "display_data",
          "data": {
            "text/plain": [
              "<Figure size 864x864 with 1 Axes>"
            ],
            "image/png": "[encoded data removed]"
          },
          "metadata": {
            "needs_background": "light"
          }
        }
      ],
      "source": [
        "# NOTE: Setting the `warm_start` construction parameter to `True` disables\n",
        "# support for parallelized ensembles but is necessary for tracking the OOB\n",
        "# error trajectory during training.\n",
        "\n",
        "RANDOM_STATE=123\n",
        "\n",
        "ensemble_clfs = [\n",
        "    (\n",
        "        \"RandomForestClassifier, max_features='sqrt'\",\n",
        "        RandomForestClassifier(\n",
        "            warm_start=True,\n",
        "            oob_score=True,\n",
        "            max_features=\"sqrt\",\n",
        "            random_state=RANDOM_STATE,\n",
        "        ),\n",
        "    ),\n",
        "]\n",
        "\n",
        "# Map a classifier name to a list of (<n_estimators>, <error rate>) pairs.\n",
        "error_rate = OrderedDict((label, []) for label, _ in ensemble_clfs)\n",
        "\n",
        "# Range of `n_estimators` values to explore.\n",
        "min_estimators = 5\n",
        "max_estimators = 1000\n",
        "\n",
        "for label, clf in ensemble_clfs:\n",
        "    for i in range(min_estimators, max_estimators + 1, 5):\n",
        "        clf.set_params(n_estimators=i)\n",
        "        clf.fit(train_C, train_todasC)\n",
        "\n",
        "        # Record the OOB error for each `n_estimators=i` setting.\n",
        "        oob_error = 1 - clf.oob_score_\n",
        "        error_rate[label].append((i, oob_error))\n",
        "\n",
        "# Generate the \"OOB error rate\" vs. \"n_estimators\" plot.\n",
        "for label, clf_err in error_rate.items():\n",
        "    xs, ys = zip(*clf_err)\n",
        "    plt.plot(xs, ys, label=label)\n",
        "\n",
        "plt.xlim(min_estimators, max_estimators)\n",
        "plt.xlabel(\"n_estimators\")\n",
        "plt.ylabel(\"OOB error rate\")\n",
        "plt.show()"
      ],
      "id": "25d73cb3"
    },
    {
      "cell_type": "markdown",
      "source": [
        "Se puede observar que el error se estabiliza sobre los 500 árboles."
      ],
      "metadata": {
        "id": "nPIas-AZtJ6c"
      },
      "id": "nPIas-AZtJ6c"
    },
    {
      "cell_type": "code",
      "source": [
        "rf_best_C = RandomForestClassifier(n_estimators = 500, max_features=\"sqrt\", oob_score=True, random_state = 2022)"
      ],
      "metadata": {
        "id": "wxD4L1PqtuxH"
      },
      "execution_count": 26,
      "outputs": [],
      "id": "wxD4L1PqtuxH"
    },
    {
      "cell_type": "code",
      "execution_count": 27,
      "metadata": {
        "id": "9a6cb9d4",
        "colab": {
          "base_uri": "https://localhost:8080/"
        },
        "outputId": "e85081e3-3dc5-4307-c8da-627c16e7f15a"
      },
      "outputs": [
        {
          "output_type": "execute_result",
          "data": {
            "text/plain": [
              "0.9683830171635049"
            ]
          },
          "metadata": {},
          "execution_count": 27
        }
      ],
      "source": [
        "fit_best = rf_best_C.fit(train, train_todas)\n",
        "score = rf_best_C.score(test, test_todas)\n",
        "score"
      ],
      "id": "9a6cb9d4"
    },
    {
      "cell_type": "markdown",
      "metadata": {
        "id": "68fdb771"
      },
      "source": [
        "### Features"
      ],
      "id": "68fdb771"
    },
    {
      "cell_type": "code",
      "execution_count": 28,
      "metadata": {
        "id": "5d405f20"
      },
      "outputs": [],
      "source": [
        "features_rfC = pd.Series(rf_best_C.feature_importances_, index=excel_cantabria.columns)\n",
        "features_rfC = features_rfC.sort_values(ascending=True)\n",
        "features_rfC = features_rfC.tail(65)"
      ],
      "id": "5d405f20"
    },
    {
      "cell_type": "code",
      "execution_count": 29,
      "metadata": {
        "scrolled": true,
        "id": "14aa5aab",
        "colab": {
          "base_uri": "https://localhost:8080/"
        },
        "outputId": "146e9b89-5266-421a-98ef-2ff27c774250"
      },
      "outputs": [
        {
          "output_type": "execute_result",
          "data": {
            "text/plain": [
              "COB3G       0.000656\n",
              "NHOSPI      0.000763\n",
              "COB4G       0.000984\n",
              "CBMAS30     0.002234\n",
              "MINPENDI    0.002694\n",
              "              ...   \n",
              "RMASCU21    0.043055\n",
              "TJUVEN21    0.044912\n",
              "IENVEJ03    0.052922\n",
              "TJUVEN10    0.056528\n",
              "NFARMA      0.093933\n",
              "Length: 65, dtype: float64"
            ]
          },
          "metadata": {},
          "execution_count": 29
        }
      ],
      "source": [
        "features_rfC"
      ],
      "id": "14aa5aab"
    },
    {
      "cell_type": "code",
      "execution_count": 30,
      "metadata": {
        "id": "bf2a8c84",
        "colab": {
          "base_uri": "https://localhost:8080/",
          "height": 700
        },
        "outputId": "c6c81c95-561c-4c6b-d0c0-f54f794e532a"
      },
      "outputs": [
        {
          "output_type": "display_data",
          "data": {
            "text/plain": [
              "<Figure size 864x864 with 1 Axes>"
            ],
            "image/png": "[encoded data removed]"
          },
          "metadata": {
            "needs_background": "light"
          }
        }
      ],
      "source": [
        "plt.barh(features_rfC.index, features_rfC)\n",
        "plt.show()"
      ],
      "id": "bf2a8c84"
    },
    {
      "cell_type": "markdown",
      "source": [
        "## XGBoost"
      ],
      "metadata": {
        "id": "EXK8GS4xRIRb"
      },
      "id": "EXK8GS4xRIRb"
    },
    {
      "cell_type": "markdown",
      "source": [
        "Por último, pasamos a crear los modelos para el Extreme Gradient Boosting."
      ],
      "metadata": {
        "id": "5B8IrftUt-e7"
      },
      "id": "5B8IrftUt-e7"
    },
    {
      "cell_type": "markdown",
      "source": [
        "#### España:"
      ],
      "metadata": {
        "id": "-_KJ_MRAQ3Hk"
      },
      "id": "-_KJ_MRAQ3Hk"
    },
    {
      "cell_type": "code",
      "execution_count": 31,
      "metadata": {
        "id": "ba9927ec",
        "colab": {
          "base_uri": "https://localhost:8080/"
        },
        "outputId": "c6c44c4d-2153-4cfa-8646-1b58d114e46a"
      },
      "outputs": [
        {
          "output_type": "execute_result",
          "data": {
            "text/plain": [
              "XGBClassifier()"
            ]
          },
          "metadata": {},
          "execution_count": 31
        }
      ],
      "source": [
        "# Creación del modelo\n",
        "modelo = XGBClassifier()\n",
        "modelo.fit(train, train_todas)"
      ],
      "id": "ba9927ec"
    },
    {
      "cell_type": "code",
      "source": [
        "# Predicción\n",
        "y_pred = modelo.predict(test)"
      ],
      "metadata": {
        "id": "5DzlepGpN8xe"
      },
      "execution_count": 32,
      "outputs": [],
      "id": "5DzlepGpN8xe"
    },
    {
      "cell_type": "code",
      "source": [
        "#Transformamos las predicciones en 0 y 1.\n",
        "prediccion = [1 if i > .5 else 0 for i in y_pred]"
      ],
      "metadata": {
        "id": "G_6_NxPyN8pF"
      },
      "execution_count": 33,
      "outputs": [],
      "id": "G_6_NxPyN8pF"
    },
    {
      "cell_type": "code",
      "source": [
        "# Evaluamos\n",
        "accuracy = accuracy_score(test_todas, prediccion)\n",
        "print(\"Accuracy: %.2f%%\" % (accuracy * 100.0))"
      ],
      "metadata": {
        "id": "dkOVFzF5N8c-",
        "colab": {
          "base_uri": "https://localhost:8080/"
        },
        "outputId": "0d0d2ee6-ef85-497c-c281-941bd1b43fdc"
      },
      "execution_count": 34,
      "outputs": [
        {
          "output_type": "stream",
          "name": "stdout",
          "text": [
            "Accuracy: 96.75%\n"
          ]
        }
      ],
      "id": "dkOVFzF5N8c-"
    },
    {
      "cell_type": "code",
      "source": [
        "#Calculamos la matriz de confusión\n",
        "matriz_conf = confusion_matrix(test_todas, prediccion)"
      ],
      "metadata": {
        "id": "GaGf4SCcTbX_"
      },
      "execution_count": 35,
      "outputs": [],
      "id": "GaGf4SCcTbX_"
    },
    {
      "cell_type": "code",
      "source": [
        "matriz_conf"
      ],
      "metadata": {
        "id": "r1yilX1_TgQQ",
        "colab": {
          "base_uri": "https://localhost:8080/"
        },
        "outputId": "6fcfa1e3-37a1-4bf6-9e4f-92a7d4b79641"
      },
      "execution_count": 36,
      "outputs": [
        {
          "output_type": "execute_result",
          "data": {
            "text/plain": [
              "array([[103,  18],\n",
              "       [ 18, 968]])"
            ]
          },
          "metadata": {},
          "execution_count": 36
        }
      ],
      "id": "r1yilX1_TgQQ"
    },
    {
      "cell_type": "code",
      "source": [
        "#Vemos los valores de las variables más importantes\n",
        "print(modelo.feature_importances_)"
      ],
      "metadata": {
        "id": "huCsAIChWGdK",
        "colab": {
          "base_uri": "https://localhost:8080/"
        },
        "outputId": "6c78d70f-bdee-4431-99ac-de0ea35f5b41"
      },
      "execution_count": 37,
      "outputs": [
        {
          "output_type": "stream",
          "name": "stdout",
          "text": [
            "[0.01101432 0.01430047 0.00423226 0.00523351 0.         0.00628057\n",
            " 0.         0.00374598 0.00840707 0.00383448 0.00699385 0.00332106\n",
            " 0.02203647 0.00895761 0.01846672 0.01236647 0.00421792 0.00354254\n",
            " 0.0076307  0.00433154 0.00454838 0.01209653 0.         0.00109621\n",
            " 0.00830426 0.01439374 0.00564195 0.00995145 0.         0.0096896\n",
            " 0.02432124 0.13382639 0.09900439 0.0220345  0.02515696 0.03752844\n",
            " 0.06714296 0.03709575 0.00750698 0.01705505 0.00752629 0.00712119\n",
            " 0.00870688 0.0061408  0.01532491 0.00879389 0.01092413 0.00686397\n",
            " 0.00686782 0.01566212 0.03031589 0.01437481 0.01745213 0.\n",
            " 0.         0.09371606 0.01869987 0.00434111 0.00188689 0.00255092\n",
            " 0.01913842 0.01248096 0.         0.         0.00580261]\n"
          ]
        }
      ],
      "id": "huCsAIChWGdK"
    },
    {
      "cell_type": "markdown",
      "source": [
        "Una vez realizado el modelo y la evaluación queda por ver las variables de relevancia."
      ],
      "metadata": {
        "id": "_xpIw0HCi8t0"
      },
      "id": "_xpIw0HCi8t0"
    },
    {
      "cell_type": "code",
      "source": [
        "plot_importance(modelo, height=1, max_num_features=65)\n",
        "plt.show()\n",
        "plt.rcParams[\"figure.figsize\"] = (9,9)"
      ],
      "metadata": {
        "id": "tlHpzJ3DaZzo",
        "colab": {
          "base_uri": "https://localhost:8080/",
          "height": 730
        },
        "outputId": "9577356b-2907-41dc-8b80-66c9854b99d1"
      },
      "execution_count": 38,
      "outputs": [
        {
          "output_type": "display_data",
          "data": {
            "text/plain": [
              "<Figure size 864x864 with 1 Axes>"
            ],
            "image/png": "[encoded data removed]"
          },
          "metadata": {
            "needs_background": "light"
          }
        }
      ],
      "id": "tlHpzJ3DaZzo"
    },
    {
      "cell_type": "markdown",
      "source": [
        "#### Cantabria:"
      ],
      "metadata": {
        "id": "oaQQFfedQ9rZ"
      },
      "id": "oaQQFfedQ9rZ"
    },
    {
      "cell_type": "code",
      "source": [
        "modeloC = XGBClassifier()\n",
        "modeloC.fit(train_C, train_todasC)"
      ],
      "metadata": {
        "id": "e8qFsUvnRLoX",
        "colab": {
          "base_uri": "https://localhost:8080/"
        },
        "outputId": "c852705d-7c53-4014-ccd2-d0232e2028d7"
      },
      "execution_count": 39,
      "outputs": [
        {
          "output_type": "execute_result",
          "data": {
            "text/plain": [
              "XGBClassifier()"
            ]
          },
          "metadata": {},
          "execution_count": 39
        }
      ],
      "id": "e8qFsUvnRLoX"
    },
    {
      "cell_type": "code",
      "source": [
        "y_predC = modeloC.predict(test_C)"
      ],
      "metadata": {
        "id": "wDeU3HLARQGL"
      },
      "execution_count": 40,
      "outputs": [],
      "id": "wDeU3HLARQGL"
    },
    {
      "cell_type": "code",
      "source": [
        "prediccionC = [1 if i > .5 else 0 for i in y_predC]"
      ],
      "metadata": {
        "id": "a5qDsqqMRJa5"
      },
      "execution_count": 41,
      "outputs": [],
      "id": "a5qDsqqMRJa5"
    },
    {
      "cell_type": "markdown",
      "source": [
        "Accuracy:"
      ],
      "metadata": {
        "id": "Py5yU3yduhqf"
      },
      "id": "Py5yU3yduhqf"
    },
    {
      "cell_type": "code",
      "source": [
        "accuracyC = accuracy_score(test_todasC, prediccionC)\n",
        "print(\"Accuracy: %.2f%%\" % (accuracyC * 100.0))"
      ],
      "metadata": {
        "id": "EJMnEe1aS3Y4",
        "colab": {
          "base_uri": "https://localhost:8080/"
        },
        "outputId": "c803e258-ff3f-407a-ed6e-93e27e1466a3"
      },
      "execution_count": 42,
      "outputs": [
        {
          "output_type": "stream",
          "name": "stdout",
          "text": [
            "Accuracy: 83.33%\n"
          ]
        }
      ],
      "id": "EJMnEe1aS3Y4"
    },
    {
      "cell_type": "code",
      "source": [
        " matriz_confC = confusion_matrix(test_todasC, prediccionC)"
      ],
      "metadata": {
        "id": "ageskrVrS3Vr"
      },
      "execution_count": 43,
      "outputs": [],
      "id": "ageskrVrS3Vr"
    },
    {
      "cell_type": "code",
      "source": [
        " matriz_confC"
      ],
      "metadata": {
        "id": "rEC8x2CAS3Sn",
        "colab": {
          "base_uri": "https://localhost:8080/"
        },
        "outputId": "69e5acbe-1004-4cab-a172-c51661d91bc6"
      },
      "execution_count": 44,
      "outputs": [
        {
          "output_type": "execute_result",
          "data": {
            "text/plain": [
              "array([[ 7,  2],\n",
              "       [ 3, 18]])"
            ]
          },
          "metadata": {},
          "execution_count": 44
        }
      ],
      "id": "rEC8x2CAS3Sn"
    },
    {
      "cell_type": "markdown",
      "source": [
        "Variables de mayor relevancia:"
      ],
      "metadata": {
        "id": "0g2R3d4FTTi7"
      },
      "id": "0g2R3d4FTTi7"
    },
    {
      "cell_type": "code",
      "source": [
        "print(modeloC.feature_importances_)"
      ],
      "metadata": {
        "id": "0s1HEAwL_VM1",
        "colab": {
          "base_uri": "https://localhost:8080/"
        },
        "outputId": "380fc2b8-ede2-4502-c40b-60e7b9a86a90"
      },
      "execution_count": 45,
      "outputs": [
        {
          "output_type": "stream",
          "name": "stdout",
          "text": [
            "[0.08641633 0.         0.         0.03329667 0.         0.\n",
            " 0.         0.         0.01998216 0.00441697 0.         0.02218115\n",
            " 0.05864209 0.         0.         0.01599962 0.01558585 0.02225383\n",
            " 0.         0.02081166 0.00536928 0.03329175 0.         0.\n",
            " 0.02033713 0.00584725 0.         0.         0.         0.\n",
            " 0.         0.0128481  0.         0.01699198 0.00411515 0.04671901\n",
            " 0.23852868 0.03447439 0.09808833 0.         0.00954012 0.01962291\n",
            " 0.01136346 0.00918713 0.01736804 0.         0.01666999 0.00596838\n",
            " 0.         0.         0.02660246 0.0081752  0.0069566  0.\n",
            " 0.         0.         0.         0.02668599 0.         0.00732272\n",
            " 0.01833969 0.         0.         0.         0.        ]\n"
          ]
        }
      ],
      "id": "0s1HEAwL_VM1"
    },
    {
      "cell_type": "code",
      "source": [
        "plot_importance(modeloC, height=1, max_num_features=65)\n",
        "plt.show()\n",
        "plt.rcParams[\"figure.figsize\"] = (9,9)"
      ],
      "metadata": {
        "id": "yQbrYFFIx2Vq",
        "colab": {
          "base_uri": "https://localhost:8080/",
          "height": 567
        },
        "outputId": "83ed3f23-5f19-4be3-9e3c-779c5b3092da"
      },
      "execution_count": 46,
      "outputs": [
        {
          "output_type": "display_data",
          "data": {
            "text/plain": [
              "<Figure size 648x648 with 1 Axes>"
            ],
            "image/png": "[encoded data removed]"
          },
          "metadata": {
            "needs_background": "light"
          }
        }
      ],
      "id": "yQbrYFFIx2Vq"
    }
  ],
  "metadata": {
    "kernelspec": {
      "display_name": "Python 3",
      "language": "python",
      "name": "python3"
    },
    "language_info": {
      "codemirror_mode": {
        "name": "ipython",
        "version": 3
      },
      "file_extension": ".py",
      "mimetype": "text/x-python",
      "name": "python",
      "nbconvert_exporter": "python",
      "pygments_lexer": "ipython3",
      "version": "3.6.5"
    },
    "colab": {
      "name": "4. Técnicas de Machine Learning.ipynb",
      "provenance": []
    }
  },
  "nbformat": 4,
  "nbformat_minor": 5
}